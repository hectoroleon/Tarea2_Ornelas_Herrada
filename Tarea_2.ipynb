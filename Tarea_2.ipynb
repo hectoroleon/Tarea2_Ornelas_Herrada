{
 "cells": [
  {
   "cell_type": "markdown",
   "metadata": {
    "id": "XuU8JS6qEzAG"
   },
   "source": [
    "<img style=\"float: left; margin: 30px 15px 15px 15px;\" src=\"https://encrypted-tbn0.gstatic.com/images?q=tbn:ANd9GcTFzQj91sOlkeDFkg5HDbjtR4QJYmLXkfMNig&usqp=CAU\" width=\"400\" height=\"500\" />\n",
    "    \n",
    "    \n",
    "### <font color='navy'> Modelos no lineales para pronósticos.\n",
    "\n",
    "**Nombres:** Estudiante 1: Héctor César Ornelas León // Estudiante 2: Flavio Maximiliano Herrada Avalos\n",
    "\n",
    "**Fecha:** 06 de febrero del 2024.\n",
    "\n",
    "**Expediente** : Estudiante 1: 738146 // Estudiante 2: 741071\n",
    "    \n",
    "**Profesor:** Oscar David Jaramillo Zuluaga.\n",
    "    \n",
    "**Link Github**: https://github.com/hectoroleon/Tarea2_Ornelas_Herrada\n",
    "\n",
    "#### Tarea 2: Clase 4"
   ]
  },
  {
   "cell_type": "markdown",
   "metadata": {
    "id": "c0Y5jeStE1U-"
   },
   "source": [
    "# Tarea 2.\n",
    "\n",
    "Para ejemplo estudiado en esta clase data WWWUsage.csv probar lo siguiente:\n",
    "\n",
    "1. Encontrar el mejor modelo ARIMA usando los criterios de AIC, BIC y log-verosimilud, justificando la estructura propuesta.\n",
    "2. Analizar el efecto de normalizar la serie de tiempo, es decir usar MinMaxScaler para normalizar los datos. Posterior a esto, realizar el mismo precedimiento realizado en clase y encontrar el mejor modelo de ARIMA. Justifique todos los análisis realizados, incluyendo los resultados de las gráficas de ACF y PACF.\n",
    "3. Investigar la implementación y teoría de los modelos SARIMAX. Además de eso, generar un modelo de pronóstico usando SARIMAX, donde todo el procediemiento anteriormente descrito es implementado, para el siguiente conjunto de datos con estacionalidad:\n",
    "\n",
    "* air2 = requests.get('https://www.stata-press.com/data/r12/air2.dta').content\n",
    "data2 = pd.read_stata(BytesIO(air2))\n",
    "data2.index = pd.date_range(start=datetime(data2.time[0], 1, 1), periods=len(data2), freq='MS')\n",
    "* Nota: Pueden basarse en el siguiente enlace para entender el análisis a realizar https://analyticsindiamag.com/complete-guide-to-sarimax-in-python-for-time-series-modeling/\n",
    "\n",
    "4. Realizar una predicción de 20 unidades de tiempo en el futuro, tanto para el modelo ARIMA como SARIMA y reportar los resulados en una gráfica donde se puedan observar los datos reales y los datos predichos."
   ]
  },
  {
   "cell_type": "markdown",
   "metadata": {
    "id": "UGBHH34PFB0d"
   },
   "source": [
    "### Solución estudiante 1: Héctor Ornelas\n",
    "\n",
    "\n"
   ]
  },
  {
   "cell_type": "code",
   "execution_count": 1,
   "metadata": {
    "id": "HXnHthpGWYR4"
   },
   "outputs": [],
   "source": [
    "from scipy.stats import norm\n",
    "import statsmodels.api as sm\n",
    "from statsmodels.tsa.arima.model import ARIMA\n",
    "import matplotlib.pyplot as plt\n",
    "from statsmodels.graphics.tsaplots import plot_acf, plot_pacf\n",
    "from statsmodels.tsa.stattools import adfuller\n",
    "from io import BytesIO\n",
    "import pandas as pd\n",
    "import warnings\n",
    "warnings.filterwarnings(\"ignore\")\n",
    "\n",
    "plt.rc(\"font\", size=12)"
   ]
  },
  {
   "cell_type": "markdown",
   "metadata": {
    "id": "P94bzxzIrNFf"
   },
   "source": [
    "1. Encontrar el mejor modelo ARIMA usando los criterios de AIC, BIC y log-verosimilud, justificando la estructura propuesta"
   ]
  },
  {
   "cell_type": "code",
   "execution_count": 68,
   "metadata": {
    "colab": {
     "base_uri": "https://localhost:8080/",
     "height": 206
    },
    "id": "Po9I6yYbVqRo",
    "outputId": "13d9c988-e385-4bf8-8408-97e4093f088b"
   },
   "outputs": [
    {
     "data": {
      "text/html": [
       "\n",
       "  <div id=\"df-00fb0de3-3e27-4d37-b4bb-eff6ec4ca64c\" class=\"colab-df-container\">\n",
       "    <div>\n",
       "<style scoped>\n",
       "    .dataframe tbody tr th:only-of-type {\n",
       "        vertical-align: middle;\n",
       "    }\n",
       "\n",
       "    .dataframe tbody tr th {\n",
       "        vertical-align: top;\n",
       "    }\n",
       "\n",
       "    .dataframe thead th {\n",
       "        text-align: right;\n",
       "    }\n",
       "</style>\n",
       "<table border=\"1\" class=\"dataframe\">\n",
       "  <thead>\n",
       "    <tr style=\"text-align: right;\">\n",
       "      <th></th>\n",
       "      <th>values</th>\n",
       "    </tr>\n",
       "  </thead>\n",
       "  <tbody>\n",
       "    <tr>\n",
       "      <th>1</th>\n",
       "      <td>88</td>\n",
       "    </tr>\n",
       "    <tr>\n",
       "      <th>2</th>\n",
       "      <td>84</td>\n",
       "    </tr>\n",
       "    <tr>\n",
       "      <th>3</th>\n",
       "      <td>85</td>\n",
       "    </tr>\n",
       "    <tr>\n",
       "      <th>4</th>\n",
       "      <td>85</td>\n",
       "    </tr>\n",
       "    <tr>\n",
       "      <th>5</th>\n",
       "      <td>84</td>\n",
       "    </tr>\n",
       "  </tbody>\n",
       "</table>\n",
       "</div>\n",
       "    <div class=\"colab-df-buttons\">\n",
       "\n",
       "  <div class=\"colab-df-container\">\n",
       "    <button class=\"colab-df-convert\" onclick=\"convertToInteractive('df-00fb0de3-3e27-4d37-b4bb-eff6ec4ca64c')\"\n",
       "            title=\"Convert this dataframe to an interactive table.\"\n",
       "            style=\"display:none;\">\n",
       "\n",
       "  <svg xmlns=\"http://www.w3.org/2000/svg\" height=\"24px\" viewBox=\"0 -960 960 960\">\n",
       "    <path d=\"M120-120v-720h720v720H120Zm60-500h600v-160H180v160Zm220 220h160v-160H400v160Zm0 220h160v-160H400v160ZM180-400h160v-160H180v160Zm440 0h160v-160H620v160ZM180-180h160v-160H180v160Zm440 0h160v-160H620v160Z\"/>\n",
       "  </svg>\n",
       "    </button>\n",
       "\n",
       "  <style>\n",
       "    .colab-df-container {\n",
       "      display:flex;\n",
       "      gap: 12px;\n",
       "    }\n",
       "\n",
       "    .colab-df-convert {\n",
       "      background-color: #E8F0FE;\n",
       "      border: none;\n",
       "      border-radius: 50%;\n",
       "      cursor: pointer;\n",
       "      display: none;\n",
       "      fill: #1967D2;\n",
       "      height: 32px;\n",
       "      padding: 0 0 0 0;\n",
       "      width: 32px;\n",
       "    }\n",
       "\n",
       "    .colab-df-convert:hover {\n",
       "      background-color: #E2EBFA;\n",
       "      box-shadow: 0px 1px 2px rgba(60, 64, 67, 0.3), 0px 1px 3px 1px rgba(60, 64, 67, 0.15);\n",
       "      fill: #174EA6;\n",
       "    }\n",
       "\n",
       "    .colab-df-buttons div {\n",
       "      margin-bottom: 4px;\n",
       "    }\n",
       "\n",
       "    [theme=dark] .colab-df-convert {\n",
       "      background-color: #3B4455;\n",
       "      fill: #D2E3FC;\n",
       "    }\n",
       "\n",
       "    [theme=dark] .colab-df-convert:hover {\n",
       "      background-color: #434B5C;\n",
       "      box-shadow: 0px 1px 3px 1px rgba(0, 0, 0, 0.15);\n",
       "      filter: drop-shadow(0px 1px 2px rgba(0, 0, 0, 0.3));\n",
       "      fill: #FFFFFF;\n",
       "    }\n",
       "  </style>\n",
       "\n",
       "    <script>\n",
       "      const buttonEl =\n",
       "        document.querySelector('#df-00fb0de3-3e27-4d37-b4bb-eff6ec4ca64c button.colab-df-convert');\n",
       "      buttonEl.style.display =\n",
       "        google.colab.kernel.accessAllowed ? 'block' : 'none';\n",
       "\n",
       "      async function convertToInteractive(key) {\n",
       "        const element = document.querySelector('#df-00fb0de3-3e27-4d37-b4bb-eff6ec4ca64c');\n",
       "        const dataTable =\n",
       "          await google.colab.kernel.invokeFunction('convertToInteractive',\n",
       "                                                    [key], {});\n",
       "        if (!dataTable) return;\n",
       "\n",
       "        const docLinkHtml = 'Like what you see? Visit the ' +\n",
       "          '<a target=\"_blank\" href=https://colab.research.google.com/notebooks/data_table.ipynb>data table notebook</a>'\n",
       "          + ' to learn more about interactive tables.';\n",
       "        element.innerHTML = '';\n",
       "        dataTable['output_type'] = 'display_data';\n",
       "        await google.colab.output.renderOutput(dataTable, element);\n",
       "        const docLink = document.createElement('div');\n",
       "        docLink.innerHTML = docLinkHtml;\n",
       "        element.appendChild(docLink);\n",
       "      }\n",
       "    </script>\n",
       "  </div>\n",
       "\n",
       "\n",
       "<div id=\"df-8a6f1fac-4211-4ed9-a7d4-d4744e1d3272\">\n",
       "  <button class=\"colab-df-quickchart\" onclick=\"quickchart('df-8a6f1fac-4211-4ed9-a7d4-d4744e1d3272')\"\n",
       "            title=\"Suggest charts\"\n",
       "            style=\"display:none;\">\n",
       "\n",
       "<svg xmlns=\"http://www.w3.org/2000/svg\" height=\"24px\"viewBox=\"0 0 24 24\"\n",
       "     width=\"24px\">\n",
       "    <g>\n",
       "        <path d=\"M19 3H5c-1.1 0-2 .9-2 2v14c0 1.1.9 2 2 2h14c1.1 0 2-.9 2-2V5c0-1.1-.9-2-2-2zM9 17H7v-7h2v7zm4 0h-2V7h2v10zm4 0h-2v-4h2v4z\"/>\n",
       "    </g>\n",
       "</svg>\n",
       "  </button>\n",
       "\n",
       "<style>\n",
       "  .colab-df-quickchart {\n",
       "      --bg-color: #E8F0FE;\n",
       "      --fill-color: #1967D2;\n",
       "      --hover-bg-color: #E2EBFA;\n",
       "      --hover-fill-color: #174EA6;\n",
       "      --disabled-fill-color: #AAA;\n",
       "      --disabled-bg-color: #DDD;\n",
       "  }\n",
       "\n",
       "  [theme=dark] .colab-df-quickchart {\n",
       "      --bg-color: #3B4455;\n",
       "      --fill-color: #D2E3FC;\n",
       "      --hover-bg-color: #434B5C;\n",
       "      --hover-fill-color: #FFFFFF;\n",
       "      --disabled-bg-color: #3B4455;\n",
       "      --disabled-fill-color: #666;\n",
       "  }\n",
       "\n",
       "  .colab-df-quickchart {\n",
       "    background-color: var(--bg-color);\n",
       "    border: none;\n",
       "    border-radius: 50%;\n",
       "    cursor: pointer;\n",
       "    display: none;\n",
       "    fill: var(--fill-color);\n",
       "    height: 32px;\n",
       "    padding: 0;\n",
       "    width: 32px;\n",
       "  }\n",
       "\n",
       "  .colab-df-quickchart:hover {\n",
       "    background-color: var(--hover-bg-color);\n",
       "    box-shadow: 0 1px 2px rgba(60, 64, 67, 0.3), 0 1px 3px 1px rgba(60, 64, 67, 0.15);\n",
       "    fill: var(--button-hover-fill-color);\n",
       "  }\n",
       "\n",
       "  .colab-df-quickchart-complete:disabled,\n",
       "  .colab-df-quickchart-complete:disabled:hover {\n",
       "    background-color: var(--disabled-bg-color);\n",
       "    fill: var(--disabled-fill-color);\n",
       "    box-shadow: none;\n",
       "  }\n",
       "\n",
       "  .colab-df-spinner {\n",
       "    border: 2px solid var(--fill-color);\n",
       "    border-color: transparent;\n",
       "    border-bottom-color: var(--fill-color);\n",
       "    animation:\n",
       "      spin 1s steps(1) infinite;\n",
       "  }\n",
       "\n",
       "  @keyframes spin {\n",
       "    0% {\n",
       "      border-color: transparent;\n",
       "      border-bottom-color: var(--fill-color);\n",
       "      border-left-color: var(--fill-color);\n",
       "    }\n",
       "    20% {\n",
       "      border-color: transparent;\n",
       "      border-left-color: var(--fill-color);\n",
       "      border-top-color: var(--fill-color);\n",
       "    }\n",
       "    30% {\n",
       "      border-color: transparent;\n",
       "      border-left-color: var(--fill-color);\n",
       "      border-top-color: var(--fill-color);\n",
       "      border-right-color: var(--fill-color);\n",
       "    }\n",
       "    40% {\n",
       "      border-color: transparent;\n",
       "      border-right-color: var(--fill-color);\n",
       "      border-top-color: var(--fill-color);\n",
       "    }\n",
       "    60% {\n",
       "      border-color: transparent;\n",
       "      border-right-color: var(--fill-color);\n",
       "    }\n",
       "    80% {\n",
       "      border-color: transparent;\n",
       "      border-right-color: var(--fill-color);\n",
       "      border-bottom-color: var(--fill-color);\n",
       "    }\n",
       "    90% {\n",
       "      border-color: transparent;\n",
       "      border-bottom-color: var(--fill-color);\n",
       "    }\n",
       "  }\n",
       "</style>\n",
       "\n",
       "  <script>\n",
       "    async function quickchart(key) {\n",
       "      const quickchartButtonEl =\n",
       "        document.querySelector('#' + key + ' button');\n",
       "      quickchartButtonEl.disabled = true;  // To prevent multiple clicks.\n",
       "      quickchartButtonEl.classList.add('colab-df-spinner');\n",
       "      try {\n",
       "        const charts = await google.colab.kernel.invokeFunction(\n",
       "            'suggestCharts', [key], {});\n",
       "      } catch (error) {\n",
       "        console.error('Error during call to suggestCharts:', error);\n",
       "      }\n",
       "      quickchartButtonEl.classList.remove('colab-df-spinner');\n",
       "      quickchartButtonEl.classList.add('colab-df-quickchart-complete');\n",
       "    }\n",
       "    (() => {\n",
       "      let quickchartButtonEl =\n",
       "        document.querySelector('#df-8a6f1fac-4211-4ed9-a7d4-d4744e1d3272 button');\n",
       "      quickchartButtonEl.style.display =\n",
       "        google.colab.kernel.accessAllowed ? 'block' : 'none';\n",
       "    })();\n",
       "  </script>\n",
       "</div>\n",
       "\n",
       "    </div>\n",
       "  </div>\n"
      ],
      "text/plain": [
       "   values\n",
       "1      88\n",
       "2      84\n",
       "3      85\n",
       "4      85\n",
       "5      84"
      ]
     },
     "execution_count": 68,
     "metadata": {},
     "output_type": "execute_result"
    }
   ],
   "source": [
    "#Importamos los datos de WWWusage\n",
    "data = pd.read_csv('WWWusage.csv', names=['values'], header=0)\n",
    "data.index = data.index.droplevel()\n",
    "data.head()"
   ]
  },
  {
   "cell_type": "code",
   "execution_count": 69,
   "metadata": {
    "colab": {
     "base_uri": "https://localhost:8080/",
     "height": 544
    },
    "id": "VlP3LqYjY3o5",
    "outputId": "23d8b312-4c4c-41a4-defb-456522f08531"
   },
   "outputs": [
    {
     "data": {
      "text/plain": [
       "<Axes: >"
      ]
     },
     "execution_count": 69,
     "metadata": {},
     "output_type": "execute_result"
    },
    {
     "data": {
      "image/png": "[encoded data removed]",
      "text/plain": [
       "<Figure size 1000x600 with 1 Axes>"
      ]
     },
     "metadata": {},
     "output_type": "display_data"
    }
   ],
   "source": [
    "data.plot(figsize=(10,6))"
   ]
  },
  {
   "cell_type": "markdown",
   "metadata": {
    "id": "38hAZoJHrVbM"
   },
   "source": [
    "Podemos notar que esta serie muy posiblemente no es estacionaria, por lo cual se comprobará haciendo un ADFuller test."
   ]
  },
  {
   "cell_type": "code",
   "execution_count": 70,
   "metadata": {
    "id": "nmaA2OzpY_8b"
   },
   "outputs": [],
   "source": [
    "def adf_test(timeseries):\n",
    "    print(\"Results of Dickey-Fuller Test:\")\n",
    "    dftest = adfuller(timeseries, autolag=\"AIC\")\n",
    "    dfoutput = pd.Series(\n",
    "        dftest[0:4],\n",
    "        index=[\n",
    "            \"Test Statistic\",\n",
    "            \"p-value\",\n",
    "            \"#Lags Used\",\n",
    "            \"Number of Observations Used\",\n",
    "        ],\n",
    "    )\n",
    "    for key, value in dftest[4].items():\n",
    "        dfoutput[\"Critical Value (%s)\" % key] = value\n",
    "    print(dfoutput)\n",
    "\n",
    "    if (dftest[1] <= 0.05) & (dftest[4]['5%'] > dftest[0]):\n",
    "        print(\"\\u001b[32mStationary\\u001b[0m\")\n",
    "    else:\n",
    "        print(\"\\x1b[31mNon-stationary\\x1b[0m\")"
   ]
  },
  {
   "cell_type": "code",
   "execution_count": 71,
   "metadata": {
    "colab": {
     "base_uri": "https://localhost:8080/"
    },
    "id": "Uzru-17qZcpi",
    "outputId": "fb05a505-add4-4455-8232-6db35fff2a67"
   },
   "outputs": [
    {
     "name": "stdout",
     "output_type": "stream",
     "text": [
      "Results of Dickey-Fuller Test:\n",
      "Test Statistic                 -2.464240\n",
      "p-value                         0.124419\n",
      "#Lags Used                      3.000000\n",
      "Number of Observations Used    96.000000\n",
      "Critical Value (1%)            -3.500379\n",
      "Critical Value (5%)            -2.892152\n",
      "Critical Value (10%)           -2.583100\n",
      "dtype: float64\n",
      "\u001b[31mNon-stationary\u001b[0m\n"
     ]
    }
   ],
   "source": [
    "adf_test(data)"
   ]
  },
  {
   "cell_type": "markdown",
   "metadata": {
    "id": "iGbBOMOVr705"
   },
   "source": [
    "Se comprueba que no es estacionaria, por lo que será necesario diferenciar la serie."
   ]
  },
  {
   "cell_type": "code",
   "execution_count": 72,
   "metadata": {
    "colab": {
     "base_uri": "https://localhost:8080/"
    },
    "id": "leRbzJqRZlgF",
    "outputId": "58fe2e97-5672-4995-8cc6-42be0480790f"
   },
   "outputs": [
    {
     "name": "stdout",
     "output_type": "stream",
     "text": [
      "ADF para derivada primer orden...\n",
      "\n",
      "Results of Dickey-Fuller Test:\n",
      "Test Statistic                 -2.722238\n",
      "p-value                         0.070268\n",
      "#Lags Used                      2.000000\n",
      "Number of Observations Used    96.000000\n",
      "Critical Value (1%)            -3.500379\n",
      "Critical Value (5%)            -2.892152\n",
      "Critical Value (10%)           -2.583100\n",
      "dtype: float64\n",
      "\u001b[31mNon-stationary\u001b[0m\n",
      "ADF para derivada segundo orden...\n",
      "\n",
      "Results of Dickey-Fuller Test:\n",
      "Test Statistic                -9.929762e+00\n",
      "p-value                        2.843429e-17\n",
      "#Lags Used                     1.000000e+00\n",
      "Number of Observations Used    9.600000e+01\n",
      "Critical Value (1%)           -3.500379e+00\n",
      "Critical Value (5%)           -2.892152e+00\n",
      "Critical Value (10%)          -2.583100e+00\n",
      "dtype: float64\n",
      "\u001b[32mStationary\u001b[0m\n"
     ]
    }
   ],
   "source": [
    "# Para este caso haremos una diferenciación de primer y segundo orden\n",
    "\n",
    "diff1_values = data.diff().dropna()\n",
    "\n",
    "print('ADF para derivada primer orden...\\n')\n",
    "adf_test(diff1_values)\n",
    "\n",
    "diff2_values = data.diff().diff().dropna()\n",
    "\n",
    "print('ADF para derivada segundo orden...\\n')\n",
    "adf_test(diff2_values)"
   ]
  },
  {
   "cell_type": "markdown",
   "metadata": {
    "id": "7ASN6XU4sMis"
   },
   "source": [
    "Vemos que se cumple el ser estacionaria para la serie con la derivada de segundo orden."
   ]
  },
  {
   "cell_type": "code",
   "execution_count": 73,
   "metadata": {
    "colab": {
     "base_uri": "https://localhost:8080/",
     "height": 473
    },
    "id": "SAG3nP5eZtn-",
    "outputId": "191f0219-d312-416a-9e5c-86308a471c48"
   },
   "outputs": [
    {
     "data": {
      "image/png": "[encoded data removed]",
      "text/plain": [
       "<Figure size 800x500 with 2 Axes>"
      ]
     },
     "metadata": {},
     "output_type": "display_data"
    }
   ],
   "source": [
    "# Graficar ACF y PACF\n",
    "def plot_acf_pacf(data, kwargs=dict()):\n",
    "    f = plt.figure(figsize=(8,5))\n",
    "\n",
    "    ax1 = f.add_subplot(121)\n",
    "\n",
    "    plot_acf(data, zero=False, ax=ax1, **kwargs)\n",
    "\n",
    "    ax2 = f.add_subplot(122)\n",
    "    plot_pacf(data, zero=False, ax=ax2, method='ols', **kwargs)\n",
    "\n",
    "    plt.show()\n",
    "\n",
    "plot_acf_pacf(diff2_values, {'lags':40})"
   ]
  },
  {
   "cell_type": "markdown",
   "metadata": {
    "id": "5dAM88BwsaNS"
   },
   "source": [
    "Parece ser que lo adecuado para esta serie sería un orden (2, 2, 2), sin embargo, veremos los resultados para valores de p y q cercanos, con el objetivo de encontrar el mejor modelo."
   ]
  },
  {
   "cell_type": "code",
   "execution_count": 74,
   "metadata": {
    "colab": {
     "base_uri": "https://localhost:8080/"
    },
    "id": "LfaeCuWNaIO1",
    "outputId": "17290457-e6f6-441c-f767-84a5923c2b7d"
   },
   "outputs": [
    {
     "name": "stdout",
     "output_type": "stream",
     "text": [
      "                               SARIMAX Results                                \n",
      "==============================================================================\n",
      "Dep. Variable:                 values   No. Observations:                  100\n",
      "Model:                 ARIMA(2, 2, 2)   Log Likelihood                -252.565\n",
      "Date:                Tue, 06 Feb 2024   AIC                            515.131\n",
      "Time:                        15:14:49   BIC                            528.055\n",
      "Sample:                             0   HQIC                           520.358\n",
      "                                - 100                                         \n",
      "Covariance Type:                  opg                                         \n",
      "==============================================================================\n",
      "                 coef    std err          z      P>|z|      [0.025      0.975]\n",
      "------------------------------------------------------------------------------\n",
      "ar.L1          0.3722      0.244      1.526      0.127      -0.106       0.850\n",
      "ar.L2         -0.3903      0.199     -1.966      0.049      -0.779      -0.001\n",
      "ma.L1         -0.1374      0.256     -0.537      0.591      -0.639       0.364\n",
      "ma.L2         -0.0902      0.207     -0.435      0.663      -0.496       0.316\n",
      "sigma2        10.0909      1.531      6.590      0.000       7.090      13.092\n",
      "===================================================================================\n",
      "Ljung-Box (L1) (Q):                   0.00   Jarque-Bera (JB):                 0.04\n",
      "Prob(Q):                              0.97   Prob(JB):                         0.98\n",
      "Heteroskedasticity (H):               0.50   Skew:                            -0.05\n",
      "Prob(H) (two-sided):                  0.05   Kurtosis:                         3.00\n",
      "===================================================================================\n",
      "\n",
      "Warnings:\n",
      "[1] Covariance matrix calculated using the outer product of gradients (complex-step).\n"
     ]
    }
   ],
   "source": [
    "arima_model1 = ARIMA(data, order=(2, 2, 2))\n",
    "model1 = arima_model1.fit()\n",
    "print(model1.summary())"
   ]
  },
  {
   "cell_type": "code",
   "execution_count": 75,
   "metadata": {
    "colab": {
     "base_uri": "https://localhost:8080/"
    },
    "id": "scypg9DFaNX-",
    "outputId": "f34f51d8-c000-41a1-878b-186d5138b039"
   },
   "outputs": [
    {
     "name": "stdout",
     "output_type": "stream",
     "text": [
      "                               SARIMAX Results                                \n",
      "==============================================================================\n",
      "Dep. Variable:                 values   No. Observations:                  100\n",
      "Model:                 ARIMA(2, 2, 1)   Log Likelihood                -252.628\n",
      "Date:                Tue, 06 Feb 2024   AIC                            513.256\n",
      "Time:                        15:14:49   BIC                            523.596\n",
      "Sample:                             0   HQIC                           517.438\n",
      "                                - 100                                         \n",
      "Covariance Type:                  opg                                         \n",
      "==============================================================================\n",
      "                 coef    std err          z      P>|z|      [0.025      0.975]\n",
      "------------------------------------------------------------------------------\n",
      "ar.L1          0.3513      0.236      1.488      0.137      -0.111       0.814\n",
      "ar.L2         -0.4572      0.097     -4.729      0.000      -0.647      -0.268\n",
      "ma.L1         -0.1162      0.254     -0.457      0.647      -0.614       0.382\n",
      "sigma2        10.1043      1.515      6.667      0.000       7.134      13.075\n",
      "===================================================================================\n",
      "Ljung-Box (L1) (Q):                   0.00   Jarque-Bera (JB):                 0.06\n",
      "Prob(Q):                              0.98   Prob(JB):                         0.97\n",
      "Heteroskedasticity (H):               0.49   Skew:                            -0.05\n",
      "Prob(H) (two-sided):                  0.04   Kurtosis:                         2.94\n",
      "===================================================================================\n",
      "\n",
      "Warnings:\n",
      "[1] Covariance matrix calculated using the outer product of gradients (complex-step).\n"
     ]
    }
   ],
   "source": [
    "arima_model2 = ARIMA(data, order=(2, 2, 1))\n",
    "model2 = arima_model2.fit()\n",
    "print(model2.summary())"
   ]
  },
  {
   "cell_type": "code",
   "execution_count": 76,
   "metadata": {
    "colab": {
     "base_uri": "https://localhost:8080/"
    },
    "id": "hIwdvbDvZ3Nc",
    "outputId": "3506f9df-bff7-455e-80b6-c1ebf50330b7"
   },
   "outputs": [
    {
     "name": "stdout",
     "output_type": "stream",
     "text": [
      "                               SARIMAX Results                                \n",
      "==============================================================================\n",
      "Dep. Variable:                 values   No. Observations:                  100\n",
      "Model:                 ARIMA(2, 2, 0)   Log Likelihood                -252.732\n",
      "Date:                Tue, 06 Feb 2024   AIC                            511.465\n",
      "Time:                        15:14:49   BIC                            519.220\n",
      "Sample:                             0   HQIC                           514.601\n",
      "                                - 100                                         \n",
      "Covariance Type:                  opg                                         \n",
      "==============================================================================\n",
      "                 coef    std err          z      P>|z|      [0.025      0.975]\n",
      "------------------------------------------------------------------------------\n",
      "ar.L1          0.2579      0.103      2.510      0.012       0.056       0.459\n",
      "ar.L2         -0.4407      0.087     -5.093      0.000      -0.610      -0.271\n",
      "sigma2        10.1268      1.519      6.668      0.000       7.150      13.103\n",
      "===================================================================================\n",
      "Ljung-Box (L1) (Q):                   0.05   Jarque-Bera (JB):                 0.10\n",
      "Prob(Q):                              0.82   Prob(JB):                         0.95\n",
      "Heteroskedasticity (H):               0.49   Skew:                            -0.07\n",
      "Prob(H) (two-sided):                  0.05   Kurtosis:                         2.92\n",
      "===================================================================================\n",
      "\n",
      "Warnings:\n",
      "[1] Covariance matrix calculated using the outer product of gradients (complex-step).\n"
     ]
    }
   ],
   "source": [
    "arima_model3 = ARIMA(data, order=(2, 2, 0))\n",
    "model3 = arima_model3.fit()\n",
    "print(model3.summary())"
   ]
  },
  {
   "cell_type": "code",
   "execution_count": 77,
   "metadata": {
    "colab": {
     "base_uri": "https://localhost:8080/"
    },
    "id": "V_BKrNTgcATW",
    "outputId": "c7f47ca9-2eb1-4691-8f88-6a599dd3a55b"
   },
   "outputs": [
    {
     "name": "stdout",
     "output_type": "stream",
     "text": [
      "                               SARIMAX Results                                \n",
      "==============================================================================\n",
      "Dep. Variable:                 values   No. Observations:                  100\n",
      "Model:                 ARIMA(1, 2, 2)   Log Likelihood                -252.594\n",
      "Date:                Tue, 06 Feb 2024   AIC                            513.189\n",
      "Time:                        15:14:50   BIC                            523.529\n",
      "Sample:                             0   HQIC                           517.371\n",
      "                                - 100                                         \n",
      "Covariance Type:                  opg                                         \n",
      "==============================================================================\n",
      "                 coef    std err          z      P>|z|      [0.025      0.975]\n",
      "------------------------------------------------------------------------------\n",
      "ar.L1          0.6530      0.103      6.360      0.000       0.452       0.854\n",
      "ma.L1         -0.4745      3.255     -0.146      0.884      -6.855       5.906\n",
      "ma.L2         -0.5251      1.688     -0.311      0.756      -3.834       2.783\n",
      "sigma2         9.8272     31.730      0.310      0.757     -52.363      72.017\n",
      "===================================================================================\n",
      "Ljung-Box (L1) (Q):                   0.00   Jarque-Bera (JB):                 0.22\n",
      "Prob(Q):                              0.95   Prob(JB):                         0.90\n",
      "Heteroskedasticity (H):               0.61   Skew:                            -0.11\n",
      "Prob(H) (two-sided):                  0.16   Kurtosis:                         3.08\n",
      "===================================================================================\n",
      "\n",
      "Warnings:\n",
      "[1] Covariance matrix calculated using the outer product of gradients (complex-step).\n"
     ]
    }
   ],
   "source": [
    "arima_model4 = ARIMA(data, order=(1, 2, 2))\n",
    "model4 = arima_model4.fit()\n",
    "print(model4.summary())"
   ]
  },
  {
   "cell_type": "code",
   "execution_count": 78,
   "metadata": {
    "colab": {
     "base_uri": "https://localhost:8080/"
    },
    "id": "tKEWen6qcuvk",
    "outputId": "a678b0e1-5240-4800-e540-9ee841488daf"
   },
   "outputs": [
    {
     "name": "stdout",
     "output_type": "stream",
     "text": [
      "         Modelo  Log Likelihood         AIC         BIC\n",
      "0  arima_model1     -252.565274  515.130547  528.055385\n",
      "1  arima_model2     -252.627966  513.255933  523.595803\n",
      "2  arima_model3     -252.732392  511.464783  519.219686\n",
      "3  arima_model4     -252.594423  513.188846  523.528716\n"
     ]
    }
   ],
   "source": [
    "# Obtener las métricas de los modelos\n",
    "metrics_data = {\n",
    "    'Modelo': ['arima_model1', 'arima_model2', 'arima_model3', 'arima_model4'],\n",
    "    'Log Likelihood': [model1.llf, model2.llf, model3.llf, model4.llf],\n",
    "    'AIC': [model1.aic, model2.aic, model3.aic, model4.aic],\n",
    "    'BIC': [model1.bic, model2.bic, model3.bic, model4.bic]\n",
    "}\n",
    "\n",
    "# Crear un DataFrame con las métricas\n",
    "metrics_df = pd.DataFrame(metrics_data)\n",
    "\n",
    "print(metrics_df)"
   ]
  },
  {
   "cell_type": "markdown",
   "metadata": {
    "id": "86_F-NOYtHU7"
   },
   "source": [
    "Considerando que los valores de Log-Likelihood son muy similares en los 4 modelos, me baso en el AIC y BIC para determinar que para esta serie el mejor modelo sería el arima_model3 que es de orden (2, 2, 0)."
   ]
  },
  {
   "cell_type": "markdown",
   "metadata": {
    "id": "z7sbc5tqtc4S"
   },
   "source": [
    "2. Analizar el efecto de normalizar la serie de tiempo, es decir usar MinMaxScaler para normalizar los datos. Posterior a esto, realizar el mismo precedimiento realizado en clase y encontrar el mejor modelo de ARIMA. Justifique todos los análisis realizados, incluyendo los resultados de las gráficas de ACF y PAC."
   ]
  },
  {
   "cell_type": "code",
   "execution_count": 79,
   "metadata": {
    "colab": {
     "base_uri": "https://localhost:8080/"
    },
    "id": "YhL0qJWsc6Yg",
    "outputId": "c2f3ce6a-6783-4f8b-ce7c-c20da98c1afd"
   },
   "outputs": [
    {
     "data": {
      "text/plain": [
       "array([[0.03448276],\n",
       "       [0.00689655],\n",
       "       [0.0137931 ],\n",
       "       [0.0137931 ],\n",
       "       [0.00689655],\n",
       "       [0.0137931 ],\n",
       "       [0.        ],\n",
       "       [0.0137931 ],\n",
       "       [0.03448276],\n",
       "       [0.04137931],\n",
       "       [0.05517241],\n",
       "       [0.11034483],\n",
       "       [0.14482759],\n",
       "       [0.2       ],\n",
       "       [0.29655172],\n",
       "       [0.37931034],\n",
       "       [0.43448276],\n",
       "       [0.46896552],\n",
       "       [0.46206897],\n",
       "       [0.44827586],\n",
       "       [0.44137931],\n",
       "       [0.45517241],\n",
       "       [0.4137931 ],\n",
       "       [0.33793103],\n",
       "       [0.33103448],\n",
       "       [0.3862069 ],\n",
       "       [0.44137931],\n",
       "       [0.46206897],\n",
       "       [0.44827586],\n",
       "       [0.42758621],\n",
       "       [0.39310345],\n",
       "       [0.35172414],\n",
       "       [0.33103448],\n",
       "       [0.33103448],\n",
       "       [0.31724138],\n",
       "       [0.29655172],\n",
       "       [0.29655172],\n",
       "       [0.33793103],\n",
       "       [0.37241379],\n",
       "       [0.39310345],\n",
       "       [0.40689655],\n",
       "       [0.46206897],\n",
       "       [0.52413793],\n",
       "       [0.57931034],\n",
       "       [0.6       ],\n",
       "       [0.60689655],\n",
       "       [0.6137931 ],\n",
       "       [0.6137931 ],\n",
       "       [0.62758621],\n",
       "       [0.63448276],\n",
       "       [0.6137931 ],\n",
       "       [0.6137931 ],\n",
       "       [0.62758621],\n",
       "       [0.62758621],\n",
       "       [0.59310345],\n",
       "       [0.56551724],\n",
       "       [0.50344828],\n",
       "       [0.40689655],\n",
       "       [0.33103448],\n",
       "       [0.26206897],\n",
       "       [0.2       ],\n",
       "       [0.14482759],\n",
       "       [0.13103448],\n",
       "       [0.11034483],\n",
       "       [0.11034483],\n",
       "       [0.08275862],\n",
       "       [0.03448276],\n",
       "       [0.00689655],\n",
       "       [0.00689655],\n",
       "       [0.02758621],\n",
       "       [0.04137931],\n",
       "       [0.03448276],\n",
       "       [0.0137931 ],\n",
       "       [0.02068966],\n",
       "       [0.04137931],\n",
       "       [0.05517241],\n",
       "       [0.05517241],\n",
       "       [0.07586207],\n",
       "       [0.12413793],\n",
       "       [0.1862069 ],\n",
       "       [0.26206897],\n",
       "       [0.35862069],\n",
       "       [0.42758621],\n",
       "       [0.45517241],\n",
       "       [0.50344828],\n",
       "       [0.56551724],\n",
       "       [0.60689655],\n",
       "       [0.63448276],\n",
       "       [0.64827586],\n",
       "       [0.68275862],\n",
       "       [0.75862069],\n",
       "       [0.83448276],\n",
       "       [0.86206897],\n",
       "       [0.87586207],\n",
       "       [0.91034483],\n",
       "       [0.95862069],\n",
       "       [1.        ],\n",
       "       [0.9862069 ],\n",
       "       [0.95862069],\n",
       "       [0.94482759]])"
      ]
     },
     "execution_count": 79,
     "metadata": {},
     "output_type": "execute_result"
    }
   ],
   "source": [
    "from sklearn.preprocessing import MinMaxScaler\n",
    "scaler = MinMaxScaler()\n",
    "data_normalized = scaler.fit_transform(data)\n",
    "data_normalized"
   ]
  },
  {
   "cell_type": "code",
   "execution_count": 80,
   "metadata": {
    "colab": {
     "base_uri": "https://localhost:8080/",
     "height": 423
    },
    "id": "s2ymYn-Wdhsa",
    "outputId": "ef4cec7e-25ca-4176-cc68-ad1d17a0dc22"
   },
   "outputs": [
    {
     "data": {
      "text/html": [
       "\n",
       "  <div id=\"df-6efaf1ac-157c-4f07-9809-b803551a585e\" class=\"colab-df-container\">\n",
       "    <div>\n",
       "<style scoped>\n",
       "    .dataframe tbody tr th:only-of-type {\n",
       "        vertical-align: middle;\n",
       "    }\n",
       "\n",
       "    .dataframe tbody tr th {\n",
       "        vertical-align: top;\n",
       "    }\n",
       "\n",
       "    .dataframe thead th {\n",
       "        text-align: right;\n",
       "    }\n",
       "</style>\n",
       "<table border=\"1\" class=\"dataframe\">\n",
       "  <thead>\n",
       "    <tr style=\"text-align: right;\">\n",
       "      <th></th>\n",
       "      <th>values</th>\n",
       "    </tr>\n",
       "  </thead>\n",
       "  <tbody>\n",
       "    <tr>\n",
       "      <th>0</th>\n",
       "      <td>0.034483</td>\n",
       "    </tr>\n",
       "    <tr>\n",
       "      <th>1</th>\n",
       "      <td>0.006897</td>\n",
       "    </tr>\n",
       "    <tr>\n",
       "      <th>2</th>\n",
       "      <td>0.013793</td>\n",
       "    </tr>\n",
       "    <tr>\n",
       "      <th>3</th>\n",
       "      <td>0.013793</td>\n",
       "    </tr>\n",
       "    <tr>\n",
       "      <th>4</th>\n",
       "      <td>0.006897</td>\n",
       "    </tr>\n",
       "    <tr>\n",
       "      <th>...</th>\n",
       "      <td>...</td>\n",
       "    </tr>\n",
       "    <tr>\n",
       "      <th>95</th>\n",
       "      <td>0.958621</td>\n",
       "    </tr>\n",
       "    <tr>\n",
       "      <th>96</th>\n",
       "      <td>1.000000</td>\n",
       "    </tr>\n",
       "    <tr>\n",
       "      <th>97</th>\n",
       "      <td>0.986207</td>\n",
       "    </tr>\n",
       "    <tr>\n",
       "      <th>98</th>\n",
       "      <td>0.958621</td>\n",
       "    </tr>\n",
       "    <tr>\n",
       "      <th>99</th>\n",
       "      <td>0.944828</td>\n",
       "    </tr>\n",
       "  </tbody>\n",
       "</table>\n",
       "<p>100 rows × 1 columns</p>\n",
       "</div>\n",
       "    <div class=\"colab-df-buttons\">\n",
       "\n",
       "  <div class=\"colab-df-container\">\n",
       "    <button class=\"colab-df-convert\" onclick=\"convertToInteractive('df-6efaf1ac-157c-4f07-9809-b803551a585e')\"\n",
       "            title=\"Convert this dataframe to an interactive table.\"\n",
       "            style=\"display:none;\">\n",
       "\n",
       "  <svg xmlns=\"http://www.w3.org/2000/svg\" height=\"24px\" viewBox=\"0 -960 960 960\">\n",
       "    <path d=\"M120-120v-720h720v720H120Zm60-500h600v-160H180v160Zm220 220h160v-160H400v160Zm0 220h160v-160H400v160ZM180-400h160v-160H180v160Zm440 0h160v-160H620v160ZM180-180h160v-160H180v160Zm440 0h160v-160H620v160Z\"/>\n",
       "  </svg>\n",
       "    </button>\n",
       "\n",
       "  <style>\n",
       "    .colab-df-container {\n",
       "      display:flex;\n",
       "      gap: 12px;\n",
       "    }\n",
       "\n",
       "    .colab-df-convert {\n",
       "      background-color: #E8F0FE;\n",
       "      border: none;\n",
       "      border-radius: 50%;\n",
       "      cursor: pointer;\n",
       "      display: none;\n",
       "      fill: #1967D2;\n",
       "      height: 32px;\n",
       "      padding: 0 0 0 0;\n",
       "      width: 32px;\n",
       "    }\n",
       "\n",
       "    .colab-df-convert:hover {\n",
       "      background-color: #E2EBFA;\n",
       "      box-shadow: 0px 1px 2px rgba(60, 64, 67, 0.3), 0px 1px 3px 1px rgba(60, 64, 67, 0.15);\n",
       "      fill: #174EA6;\n",
       "    }\n",
       "\n",
       "    .colab-df-buttons div {\n",
       "      margin-bottom: 4px;\n",
       "    }\n",
       "\n",
       "    [theme=dark] .colab-df-convert {\n",
       "      background-color: #3B4455;\n",
       "      fill: #D2E3FC;\n",
       "    }\n",
       "\n",
       "    [theme=dark] .colab-df-convert:hover {\n",
       "      background-color: #434B5C;\n",
       "      box-shadow: 0px 1px 3px 1px rgba(0, 0, 0, 0.15);\n",
       "      filter: drop-shadow(0px 1px 2px rgba(0, 0, 0, 0.3));\n",
       "      fill: #FFFFFF;\n",
       "    }\n",
       "  </style>\n",
       "\n",
       "    <script>\n",
       "      const buttonEl =\n",
       "        document.querySelector('#df-6efaf1ac-157c-4f07-9809-b803551a585e button.colab-df-convert');\n",
       "      buttonEl.style.display =\n",
       "        google.colab.kernel.accessAllowed ? 'block' : 'none';\n",
       "\n",
       "      async function convertToInteractive(key) {\n",
       "        const element = document.querySelector('#df-6efaf1ac-157c-4f07-9809-b803551a585e');\n",
       "        const dataTable =\n",
       "          await google.colab.kernel.invokeFunction('convertToInteractive',\n",
       "                                                    [key], {});\n",
       "        if (!dataTable) return;\n",
       "\n",
       "        const docLinkHtml = 'Like what you see? Visit the ' +\n",
       "          '<a target=\"_blank\" href=https://colab.research.google.com/notebooks/data_table.ipynb>data table notebook</a>'\n",
       "          + ' to learn more about interactive tables.';\n",
       "        element.innerHTML = '';\n",
       "        dataTable['output_type'] = 'display_data';\n",
       "        await google.colab.output.renderOutput(dataTable, element);\n",
       "        const docLink = document.createElement('div');\n",
       "        docLink.innerHTML = docLinkHtml;\n",
       "        element.appendChild(docLink);\n",
       "      }\n",
       "    </script>\n",
       "  </div>\n",
       "\n",
       "\n",
       "<div id=\"df-5e907126-6d2b-40b4-8441-dfd8971b9daa\">\n",
       "  <button class=\"colab-df-quickchart\" onclick=\"quickchart('df-5e907126-6d2b-40b4-8441-dfd8971b9daa')\"\n",
       "            title=\"Suggest charts\"\n",
       "            style=\"display:none;\">\n",
       "\n",
       "<svg xmlns=\"http://www.w3.org/2000/svg\" height=\"24px\"viewBox=\"0 0 24 24\"\n",
       "     width=\"24px\">\n",
       "    <g>\n",
       "        <path d=\"M19 3H5c-1.1 0-2 .9-2 2v14c0 1.1.9 2 2 2h14c1.1 0 2-.9 2-2V5c0-1.1-.9-2-2-2zM9 17H7v-7h2v7zm4 0h-2V7h2v10zm4 0h-2v-4h2v4z\"/>\n",
       "    </g>\n",
       "</svg>\n",
       "  </button>\n",
       "\n",
       "<style>\n",
       "  .colab-df-quickchart {\n",
       "      --bg-color: #E8F0FE;\n",
       "      --fill-color: #1967D2;\n",
       "      --hover-bg-color: #E2EBFA;\n",
       "      --hover-fill-color: #174EA6;\n",
       "      --disabled-fill-color: #AAA;\n",
       "      --disabled-bg-color: #DDD;\n",
       "  }\n",
       "\n",
       "  [theme=dark] .colab-df-quickchart {\n",
       "      --bg-color: #3B4455;\n",
       "      --fill-color: #D2E3FC;\n",
       "      --hover-bg-color: #434B5C;\n",
       "      --hover-fill-color: #FFFFFF;\n",
       "      --disabled-bg-color: #3B4455;\n",
       "      --disabled-fill-color: #666;\n",
       "  }\n",
       "\n",
       "  .colab-df-quickchart {\n",
       "    background-color: var(--bg-color);\n",
       "    border: none;\n",
       "    border-radius: 50%;\n",
       "    cursor: pointer;\n",
       "    display: none;\n",
       "    fill: var(--fill-color);\n",
       "    height: 32px;\n",
       "    padding: 0;\n",
       "    width: 32px;\n",
       "  }\n",
       "\n",
       "  .colab-df-quickchart:hover {\n",
       "    background-color: var(--hover-bg-color);\n",
       "    box-shadow: 0 1px 2px rgba(60, 64, 67, 0.3), 0 1px 3px 1px rgba(60, 64, 67, 0.15);\n",
       "    fill: var(--button-hover-fill-color);\n",
       "  }\n",
       "\n",
       "  .colab-df-quickchart-complete:disabled,\n",
       "  .colab-df-quickchart-complete:disabled:hover {\n",
       "    background-color: var(--disabled-bg-color);\n",
       "    fill: var(--disabled-fill-color);\n",
       "    box-shadow: none;\n",
       "  }\n",
       "\n",
       "  .colab-df-spinner {\n",
       "    border: 2px solid var(--fill-color);\n",
       "    border-color: transparent;\n",
       "    border-bottom-color: var(--fill-color);\n",
       "    animation:\n",
       "      spin 1s steps(1) infinite;\n",
       "  }\n",
       "\n",
       "  @keyframes spin {\n",
       "    0% {\n",
       "      border-color: transparent;\n",
       "      border-bottom-color: var(--fill-color);\n",
       "      border-left-color: var(--fill-color);\n",
       "    }\n",
       "    20% {\n",
       "      border-color: transparent;\n",
       "      border-left-color: var(--fill-color);\n",
       "      border-top-color: var(--fill-color);\n",
       "    }\n",
       "    30% {\n",
       "      border-color: transparent;\n",
       "      border-left-color: var(--fill-color);\n",
       "      border-top-color: var(--fill-color);\n",
       "      border-right-color: var(--fill-color);\n",
       "    }\n",
       "    40% {\n",
       "      border-color: transparent;\n",
       "      border-right-color: var(--fill-color);\n",
       "      border-top-color: var(--fill-color);\n",
       "    }\n",
       "    60% {\n",
       "      border-color: transparent;\n",
       "      border-right-color: var(--fill-color);\n",
       "    }\n",
       "    80% {\n",
       "      border-color: transparent;\n",
       "      border-right-color: var(--fill-color);\n",
       "      border-bottom-color: var(--fill-color);\n",
       "    }\n",
       "    90% {\n",
       "      border-color: transparent;\n",
       "      border-bottom-color: var(--fill-color);\n",
       "    }\n",
       "  }\n",
       "</style>\n",
       "\n",
       "  <script>\n",
       "    async function quickchart(key) {\n",
       "      const quickchartButtonEl =\n",
       "        document.querySelector('#' + key + ' button');\n",
       "      quickchartButtonEl.disabled = true;  // To prevent multiple clicks.\n",
       "      quickchartButtonEl.classList.add('colab-df-spinner');\n",
       "      try {\n",
       "        const charts = await google.colab.kernel.invokeFunction(\n",
       "            'suggestCharts', [key], {});\n",
       "      } catch (error) {\n",
       "        console.error('Error during call to suggestCharts:', error);\n",
       "      }\n",
       "      quickchartButtonEl.classList.remove('colab-df-spinner');\n",
       "      quickchartButtonEl.classList.add('colab-df-quickchart-complete');\n",
       "    }\n",
       "    (() => {\n",
       "      let quickchartButtonEl =\n",
       "        document.querySelector('#df-5e907126-6d2b-40b4-8441-dfd8971b9daa button');\n",
       "      quickchartButtonEl.style.display =\n",
       "        google.colab.kernel.accessAllowed ? 'block' : 'none';\n",
       "    })();\n",
       "  </script>\n",
       "</div>\n",
       "\n",
       "  <div id=\"id_00265e75-3420-4579-9ab9-01535611b9c3\">\n",
       "    <style>\n",
       "      .colab-df-generate {\n",
       "        background-color: #E8F0FE;\n",
       "        border: none;\n",
       "        border-radius: 50%;\n",
       "        cursor: pointer;\n",
       "        display: none;\n",
       "        fill: #1967D2;\n",
       "        height: 32px;\n",
       "        padding: 0 0 0 0;\n",
       "        width: 32px;\n",
       "      }\n",
       "\n",
       "      .colab-df-generate:hover {\n",
       "        background-color: #E2EBFA;\n",
       "        box-shadow: 0px 1px 2px rgba(60, 64, 67, 0.3), 0px 1px 3px 1px rgba(60, 64, 67, 0.15);\n",
       "        fill: #174EA6;\n",
       "      }\n",
       "\n",
       "      [theme=dark] .colab-df-generate {\n",
       "        background-color: #3B4455;\n",
       "        fill: #D2E3FC;\n",
       "      }\n",
       "\n",
       "      [theme=dark] .colab-df-generate:hover {\n",
       "        background-color: #434B5C;\n",
       "        box-shadow: 0px 1px 3px 1px rgba(0, 0, 0, 0.15);\n",
       "        filter: drop-shadow(0px 1px 2px rgba(0, 0, 0, 0.3));\n",
       "        fill: #FFFFFF;\n",
       "      }\n",
       "    </style>\n",
       "    <button class=\"colab-df-generate\" onclick=\"generateWithVariable('n_data')\"\n",
       "            title=\"Generate code using this dataframe.\"\n",
       "            style=\"display:none;\">\n",
       "\n",
       "  <svg xmlns=\"http://www.w3.org/2000/svg\" height=\"24px\"viewBox=\"0 0 24 24\"\n",
       "       width=\"24px\">\n",
       "    <path d=\"M7,19H8.4L18.45,9,17,7.55,7,17.6ZM5,21V16.75L18.45,3.32a2,2,0,0,1,2.83,0l1.4,1.43a1.91,1.91,0,0,1,.58,1.4,1.91,1.91,0,0,1-.58,1.4L9.25,21ZM18.45,9,17,7.55Zm-12,3A5.31,5.31,0,0,0,4.9,8.1,5.31,5.31,0,0,0,1,6.5,5.31,5.31,0,0,0,4.9,4.9,5.31,5.31,0,0,0,6.5,1,5.31,5.31,0,0,0,8.1,4.9,5.31,5.31,0,0,0,12,6.5,5.46,5.46,0,0,0,6.5,12Z\"/>\n",
       "  </svg>\n",
       "    </button>\n",
       "    <script>\n",
       "      (() => {\n",
       "      const buttonEl =\n",
       "        document.querySelector('#id_00265e75-3420-4579-9ab9-01535611b9c3 button.colab-df-generate');\n",
       "      buttonEl.style.display =\n",
       "        google.colab.kernel.accessAllowed ? 'block' : 'none';\n",
       "\n",
       "      buttonEl.onclick = () => {\n",
       "        google.colab.notebook.generateWithVariable('n_data');\n",
       "      }\n",
       "      })();\n",
       "    </script>\n",
       "  </div>\n",
       "\n",
       "    </div>\n",
       "  </div>\n"
      ],
      "text/plain": [
       "      values\n",
       "0   0.034483\n",
       "1   0.006897\n",
       "2   0.013793\n",
       "3   0.013793\n",
       "4   0.006897\n",
       "..       ...\n",
       "95  0.958621\n",
       "96  1.000000\n",
       "97  0.986207\n",
       "98  0.958621\n",
       "99  0.944828\n",
       "\n",
       "[100 rows x 1 columns]"
      ]
     },
     "execution_count": 80,
     "metadata": {},
     "output_type": "execute_result"
    }
   ],
   "source": [
    "n_data = pd.DataFrame(data_normalized, columns=data.columns)\n",
    "n_data"
   ]
  },
  {
   "cell_type": "markdown",
   "metadata": {
    "id": "hI1Bt_nOtpaz"
   },
   "source": [
    "Repetimos todo el proceso, pero ahora con los datos normalizados."
   ]
  },
  {
   "cell_type": "code",
   "execution_count": 81,
   "metadata": {
    "colab": {
     "base_uri": "https://localhost:8080/"
    },
    "id": "Fjaoetsmdvaa",
    "outputId": "4c213948-b803-4440-8390-fc02df718fd7"
   },
   "outputs": [
    {
     "name": "stdout",
     "output_type": "stream",
     "text": [
      "Results of Dickey-Fuller Test:\n",
      "Test Statistic                 -2.464240\n",
      "p-value                         0.124419\n",
      "#Lags Used                      3.000000\n",
      "Number of Observations Used    96.000000\n",
      "Critical Value (1%)            -3.500379\n",
      "Critical Value (5%)            -2.892152\n",
      "Critical Value (10%)           -2.583100\n",
      "dtype: float64\n",
      "\u001b[31mNon-stationary\u001b[0m\n"
     ]
    }
   ],
   "source": [
    "adf_test(n_data)"
   ]
  },
  {
   "cell_type": "code",
   "execution_count": 82,
   "metadata": {
    "colab": {
     "base_uri": "https://localhost:8080/"
    },
    "id": "v-DJQ4gIegt4",
    "outputId": "80ceb7f9-0856-4b1f-ec8b-c4fa27055223"
   },
   "outputs": [
    {
     "name": "stdout",
     "output_type": "stream",
     "text": [
      "ADF para derivada primer orden...\n",
      "\n",
      "Results of Dickey-Fuller Test:\n",
      "Test Statistic                 -2.722238\n",
      "p-value                         0.070268\n",
      "#Lags Used                      2.000000\n",
      "Number of Observations Used    96.000000\n",
      "Critical Value (1%)            -3.500379\n",
      "Critical Value (5%)            -2.892152\n",
      "Critical Value (10%)           -2.583100\n",
      "dtype: float64\n",
      "\u001b[31mNon-stationary\u001b[0m\n",
      "ADF para derivada segundo orden...\n",
      "\n",
      "Results of Dickey-Fuller Test:\n",
      "Test Statistic                -9.929762e+00\n",
      "p-value                        2.843429e-17\n",
      "#Lags Used                     1.000000e+00\n",
      "Number of Observations Used    9.600000e+01\n",
      "Critical Value (1%)           -3.500379e+00\n",
      "Critical Value (5%)           -2.892152e+00\n",
      "Critical Value (10%)          -2.583100e+00\n",
      "dtype: float64\n",
      "\u001b[32mStationary\u001b[0m\n"
     ]
    }
   ],
   "source": [
    "n_diff1_values = n_data.diff().dropna()\n",
    "\n",
    "print('ADF para derivada primer orden...\\n')\n",
    "adf_test(n_diff1_values)\n",
    "\n",
    "n_diff2_values = n_data.diff().diff().dropna()\n",
    "\n",
    "print('ADF para derivada segundo orden...\\n')\n",
    "adf_test(n_diff2_values)"
   ]
  },
  {
   "cell_type": "markdown",
   "metadata": {
    "id": "i7m_-SUWt3ZR"
   },
   "source": [
    "Notamos que sucede la misma situación que con los datos sin normalizar."
   ]
  },
  {
   "cell_type": "code",
   "execution_count": 83,
   "metadata": {
    "colab": {
     "base_uri": "https://localhost:8080/",
     "height": 473
    },
    "id": "8XckmJF9t_lY",
    "outputId": "13afaabe-8454-4a75-9845-2be6b77184b5"
   },
   "outputs": [
    {
     "data": {
      "image/png": "[encoded data removed]",
      "text/plain": [
       "<Figure size 800x500 with 2 Axes>"
      ]
     },
     "metadata": {},
     "output_type": "display_data"
    }
   ],
   "source": [
    "# Graficar ACF y PACF\n",
    "def plot_acf_pacf(data, kwargs=dict()):\n",
    "    f = plt.figure(figsize=(8,5))\n",
    "\n",
    "    ax1 = f.add_subplot(121)\n",
    "\n",
    "    plot_acf(n_data, zero=False, ax=ax1, **kwargs)\n",
    "\n",
    "    ax2 = f.add_subplot(122)\n",
    "    plot_pacf(n_data, zero=False, ax=ax2, method='ols', **kwargs)\n",
    "\n",
    "    plt.show()\n",
    "\n",
    "plot_acf_pacf(n_diff2_values, {'lags':40})"
   ]
  },
  {
   "cell_type": "markdown",
   "metadata": {
    "id": "UdRENi66uRjq"
   },
   "source": [
    "Analizando los gráfico notamos que la primera g´rafica se asemeja a una exponencial, por lo cual, no tenemos factor de Moving Average, mientras que en la autocorrelación podríamos intentar con un 4. De esta manera, el mejor modelo podría ser un (4, 2, 0)."
   ]
  },
  {
   "cell_type": "code",
   "execution_count": 84,
   "metadata": {
    "colab": {
     "base_uri": "https://localhost:8080/"
    },
    "id": "jpoZcYgSt_oG",
    "outputId": "233c9070-dda6-414e-b13b-c0ac7a686ed6"
   },
   "outputs": [
    {
     "name": "stdout",
     "output_type": "stream",
     "text": [
      "                               SARIMAX Results                                \n",
      "==============================================================================\n",
      "Dep. Variable:                 values   No. Observations:                  100\n",
      "Model:                 ARIMA(4, 2, 0)   Log Likelihood                 235.148\n",
      "Date:                Tue, 06 Feb 2024   AIC                           -460.297\n",
      "Time:                        15:14:51   BIC                           -447.372\n",
      "Sample:                             0   HQIC                          -455.069\n",
      "                                - 100                                         \n",
      "Covariance Type:                  opg                                         \n",
      "==============================================================================\n",
      "                 coef    std err          z      P>|z|      [0.025      0.975]\n",
      "------------------------------------------------------------------------------\n",
      "ar.L1          0.2328      0.111      2.104      0.035       0.016       0.450\n",
      "ar.L2         -0.4490      0.097     -4.644      0.000      -0.639      -0.260\n",
      "ar.L3         -0.0379      0.113     -0.336      0.737      -0.259       0.184\n",
      "ar.L4         -0.0404      0.106     -0.382      0.703      -0.248       0.167\n",
      "sigma2         0.0005   7.31e-05      6.567      0.000       0.000       0.001\n",
      "===================================================================================\n",
      "Ljung-Box (L1) (Q):                   0.00   Jarque-Bera (JB):                 0.04\n",
      "Prob(Q):                              1.00   Prob(JB):                         0.98\n",
      "Heteroskedasticity (H):               0.49   Skew:                            -0.05\n",
      "Prob(H) (two-sided):                  0.04   Kurtosis:                         2.98\n",
      "===================================================================================\n",
      "\n",
      "Warnings:\n",
      "[1] Covariance matrix calculated using the outer product of gradients (complex-step).\n"
     ]
    }
   ],
   "source": [
    "n_arima_model1 = ARIMA(n_data, order=(4, 2, 0))\n",
    "n_model1 = n_arima_model1.fit()\n",
    "print(n_model1.summary())"
   ]
  },
  {
   "cell_type": "markdown",
   "metadata": {
    "id": "yMp1eu_2vNkX"
   },
   "source": [
    "Considerando estos resultados con los anteriores, parece ser una excelente idea haber normalizado los datos."
   ]
  },
  {
   "cell_type": "markdown",
   "metadata": {
    "id": "LbsXt8iUvZcr"
   },
   "source": [
    "Haciendo más pruebas..."
   ]
  },
  {
   "cell_type": "code",
   "execution_count": 85,
   "metadata": {
    "colab": {
     "base_uri": "https://localhost:8080/"
    },
    "id": "2SsKyK6MvVFA",
    "outputId": "b44b3185-604f-4cd6-b990-f02bd7be046e"
   },
   "outputs": [
    {
     "name": "stdout",
     "output_type": "stream",
     "text": [
      "                               SARIMAX Results                                \n",
      "==============================================================================\n",
      "Dep. Variable:                 values   No. Observations:                  100\n",
      "Model:                 ARIMA(2, 2, 0)   Log Likelihood                 234.987\n",
      "Date:                Tue, 06 Feb 2024   AIC                           -463.974\n",
      "Time:                        15:14:51   BIC                           -456.219\n",
      "Sample:                             0   HQIC                          -460.837\n",
      "                                - 100                                         \n",
      "Covariance Type:                  opg                                         \n",
      "==============================================================================\n",
      "                 coef    std err          z      P>|z|      [0.025      0.975]\n",
      "------------------------------------------------------------------------------\n",
      "ar.L1          0.2610      0.103      2.535      0.011       0.059       0.463\n",
      "ar.L2         -0.4398      0.087     -5.082      0.000      -0.609      -0.270\n",
      "sigma2         0.0005   7.22e-05      6.670      0.000       0.000       0.001\n",
      "===================================================================================\n",
      "Ljung-Box (L1) (Q):                   0.07   Jarque-Bera (JB):                 0.09\n",
      "Prob(Q):                              0.79   Prob(JB):                         0.95\n",
      "Heteroskedasticity (H):               0.49   Skew:                            -0.07\n",
      "Prob(H) (two-sided):                  0.05   Kurtosis:                         2.93\n",
      "===================================================================================\n",
      "\n",
      "Warnings:\n",
      "[1] Covariance matrix calculated using the outer product of gradients (complex-step).\n"
     ]
    }
   ],
   "source": [
    "n_arima_model2 = ARIMA(n_data, order=(2, 2, 0))\n",
    "n_model2 = n_arima_model2.fit()\n",
    "print(n_model2.summary())"
   ]
  },
  {
   "cell_type": "code",
   "execution_count": 86,
   "metadata": {
    "colab": {
     "base_uri": "https://localhost:8080/"
    },
    "id": "M8pmh-z9vpJU",
    "outputId": "77881fac-763d-4f88-922e-e894d7f9ca23"
   },
   "outputs": [
    {
     "name": "stdout",
     "output_type": "stream",
     "text": [
      "                               SARIMAX Results                                \n",
      "==============================================================================\n",
      "Dep. Variable:                 values   No. Observations:                  100\n",
      "Model:                 ARIMA(1, 2, 1)   Log Likelihood                 228.924\n",
      "Date:                Tue, 06 Feb 2024   AIC                           -451.848\n",
      "Time:                        15:14:51   BIC                           -444.093\n",
      "Sample:                             0   HQIC                          -448.711\n",
      "                                - 100                                         \n",
      "Covariance Type:                  opg                                         \n",
      "==============================================================================\n",
      "                 coef    std err          z      P>|z|      [0.025      0.975]\n",
      "------------------------------------------------------------------------------\n",
      "ar.L1         -0.2670      0.215     -1.244      0.214      -0.688       0.154\n",
      "ma.L1          0.6149      0.168      3.651      0.000       0.285       0.945\n",
      "sigma2         0.0005   7.92e-05      6.901      0.000       0.000       0.001\n",
      "===================================================================================\n",
      "Ljung-Box (L1) (Q):                   0.27   Jarque-Bera (JB):                 0.01\n",
      "Prob(Q):                              0.60   Prob(JB):                         1.00\n",
      "Heteroskedasticity (H):               0.59   Skew:                             0.00\n",
      "Prob(H) (two-sided):                  0.13   Kurtosis:                         2.96\n",
      "===================================================================================\n",
      "\n",
      "Warnings:\n",
      "[1] Covariance matrix calculated using the outer product of gradients (complex-step).\n"
     ]
    }
   ],
   "source": [
    "n_arima_model3 = ARIMA(n_data, order=(1, 2, 1))\n",
    "n_model3 = n_arima_model3.fit()\n",
    "print(n_model3.summary())"
   ]
  },
  {
   "cell_type": "code",
   "execution_count": 87,
   "metadata": {
    "colab": {
     "base_uri": "https://localhost:8080/"
    },
    "id": "81CpVAFXv-go",
    "outputId": "6f4ecb6d-4fcc-41cb-d002-5d3ac8d981f0"
   },
   "outputs": [
    {
     "name": "stdout",
     "output_type": "stream",
     "text": [
      "                               SARIMAX Results                                \n",
      "==============================================================================\n",
      "Dep. Variable:                 values   No. Observations:                  100\n",
      "Model:                 ARIMA(0, 2, 0)   Log Likelihood                 222.981\n",
      "Date:                Tue, 06 Feb 2024   AIC                           -443.963\n",
      "Time:                        15:14:51   BIC                           -441.378\n",
      "Sample:                             0   HQIC                          -442.917\n",
      "                                - 100                                         \n",
      "Covariance Type:                  opg                                         \n",
      "==============================================================================\n",
      "                 coef    std err          z      P>|z|      [0.025      0.975]\n",
      "------------------------------------------------------------------------------\n",
      "sigma2         0.0006   9.27e-05      6.670      0.000       0.000       0.001\n",
      "===================================================================================\n",
      "Ljung-Box (L1) (Q):                   3.04   Jarque-Bera (JB):                 0.42\n",
      "Prob(Q):                              0.08   Prob(JB):                         0.81\n",
      "Heteroskedasticity (H):               0.66   Skew:                             0.13\n",
      "Prob(H) (two-sided):                  0.24   Kurtosis:                         2.81\n",
      "===================================================================================\n",
      "\n",
      "Warnings:\n",
      "[1] Covariance matrix calculated using the outer product of gradients (complex-step).\n"
     ]
    }
   ],
   "source": [
    "n_arima_model4 = ARIMA(n_data, order=(0, 2, 0))\n",
    "n_model4 = n_arima_model4.fit()\n",
    "print(n_model4.summary())"
   ]
  },
  {
   "cell_type": "code",
   "execution_count": 88,
   "metadata": {
    "colab": {
     "base_uri": "https://localhost:8080/"
    },
    "id": "LLhn8YM6wGa6",
    "outputId": "c9cafe2b-0267-48f6-be9f-5356e3f44e7d"
   },
   "outputs": [
    {
     "name": "stdout",
     "output_type": "stream",
     "text": [
      "           Modelo  Log Likelihood         AIC         BIC\n",
      "0  n_arima_model1      235.148413 -460.296825 -447.371988\n",
      "1  n_arima_model2      234.986947 -463.973894 -456.218991\n",
      "2  n_arima_model3      228.923850 -451.847700 -444.092798\n",
      "3  n_arima_model4      222.981411 -443.962823 -441.377855\n"
     ]
    }
   ],
   "source": [
    "# Obtener las métricas de los modelos\n",
    "n_metrics_data = {\n",
    "    'Modelo': ['n_arima_model1', 'n_arima_model2', 'n_arima_model3', 'n_arima_model4'],\n",
    "    'Log Likelihood': [n_model1.llf, n_model2.llf, n_model3.llf, n_model4.llf],\n",
    "    'AIC': [n_model1.aic, n_model2.aic, n_model3.aic, n_model4.aic],\n",
    "    'BIC': [n_model1.bic, n_model2.bic, n_model3.bic, n_model4.bic]\n",
    "}\n",
    "\n",
    "# Crear un DataFrame con las métricas\n",
    "n_metrics_df = pd.DataFrame(n_metrics_data)\n",
    "\n",
    "print(n_metrics_df)"
   ]
  },
  {
   "cell_type": "markdown",
   "metadata": {
    "id": "b6Arf0PfwG7_"
   },
   "source": [
    "Considerando los resultados anteriores, el n_arima_model4 resulta ser el de mejores métricas (ARIMA (0, 2, 0)), siendo bastante mejor que los modelos ARIMA con datos sin normalizar."
   ]
  },
  {
   "cell_type": "markdown",
   "metadata": {
    "id": "qEa3DMXtwHJ1"
   },
   "source": [
    "3. Investigar la implementación y teoría de los modelos SARIMAX. Además de eso, generar un modelo de pronóstico usando SARIMAX, donde todo el procediemiento anteriormente descrito es implementado, para el siguiente conjunto de datos con estacionalidad."
   ]
  },
  {
   "cell_type": "markdown",
   "metadata": {
    "id": "9QT4rFPO6_Uh"
   },
   "source": [
    "Investigación SARIMAX:\n",
    "\n",
    "SARIMAX (Seasonal Auto-Regressive Integrated Moving Average with eXogenous factors) es una versión actualizada del modelo ARIMA. Mientras que ARIMA incluye un modelo autorregresivo integrado de media móvil, SARIMAX incorpora efectos estacionales y factores exógenos junto con el componente autorregresivo y de media móvil en el modelo. Por lo tanto, podemos decir que SARIMAX es un modelo equivalente estacional, al igual que SARIMA y Auto ARIMA.\n",
    "\n",
    "Otro modelo equivalente estacional mantiene el patrón estacional; también puede manejar efectos externos. Esta característica del modelo difiere de otros modelos.\n",
    "\n",
    "En los parámetros de los modelos SARIMAX, necesitamos proporcionar dos tipos de órdenes. La primera es similar al modelo ARIMAX (p, d, q), y la otra es especificar el efecto de la estacionalidad; llamamos a este orden un orden estacional, en el cual debemos proporcionar cuatro números: Especificación AR estacional, Orden de integración estacional, MA estacional, Periodicidad estacional.\n",
    "\n",
    "Fuente: https://analyticsindiamag.com/complete-guide-to-sarimax-in-python-for-time-series-modeling/"
   ]
  },
  {
   "cell_type": "code",
   "execution_count": 89,
   "metadata": {
    "colab": {
     "base_uri": "https://localhost:8080/",
     "height": 423
    },
    "id": "wzXWnKtltpdm",
    "outputId": "b2280f2f-a99b-4c28-ba38-27a05009a3f6"
   },
   "outputs": [
    {
     "data": {
      "text/html": [
       "\n",
       "  <div id=\"df-6f7c3bda-1b73-499f-982e-7354d212bc7a\" class=\"colab-df-container\">\n",
       "    <div>\n",
       "<style scoped>\n",
       "    .dataframe tbody tr th:only-of-type {\n",
       "        vertical-align: middle;\n",
       "    }\n",
       "\n",
       "    .dataframe tbody tr th {\n",
       "        vertical-align: top;\n",
       "    }\n",
       "\n",
       "    .dataframe thead th {\n",
       "        text-align: right;\n",
       "    }\n",
       "</style>\n",
       "<table border=\"1\" class=\"dataframe\">\n",
       "  <thead>\n",
       "    <tr style=\"text-align: right;\">\n",
       "      <th></th>\n",
       "      <th>air</th>\n",
       "      <th>t</th>\n",
       "    </tr>\n",
       "  </thead>\n",
       "  <tbody>\n",
       "    <tr>\n",
       "      <th>1949-01-01</th>\n",
       "      <td>112</td>\n",
       "      <td>1.0</td>\n",
       "    </tr>\n",
       "    <tr>\n",
       "      <th>1949-02-01</th>\n",
       "      <td>118</td>\n",
       "      <td>2.0</td>\n",
       "    </tr>\n",
       "    <tr>\n",
       "      <th>1949-03-01</th>\n",
       "      <td>132</td>\n",
       "      <td>3.0</td>\n",
       "    </tr>\n",
       "    <tr>\n",
       "      <th>1949-04-01</th>\n",
       "      <td>129</td>\n",
       "      <td>4.0</td>\n",
       "    </tr>\n",
       "    <tr>\n",
       "      <th>1949-05-01</th>\n",
       "      <td>121</td>\n",
       "      <td>5.0</td>\n",
       "    </tr>\n",
       "    <tr>\n",
       "      <th>...</th>\n",
       "      <td>...</td>\n",
       "      <td>...</td>\n",
       "    </tr>\n",
       "    <tr>\n",
       "      <th>1960-08-01</th>\n",
       "      <td>606</td>\n",
       "      <td>140.0</td>\n",
       "    </tr>\n",
       "    <tr>\n",
       "      <th>1960-09-01</th>\n",
       "      <td>508</td>\n",
       "      <td>141.0</td>\n",
       "    </tr>\n",
       "    <tr>\n",
       "      <th>1960-10-01</th>\n",
       "      <td>461</td>\n",
       "      <td>142.0</td>\n",
       "    </tr>\n",
       "    <tr>\n",
       "      <th>1960-11-01</th>\n",
       "      <td>390</td>\n",
       "      <td>143.0</td>\n",
       "    </tr>\n",
       "    <tr>\n",
       "      <th>1960-12-01</th>\n",
       "      <td>432</td>\n",
       "      <td>144.0</td>\n",
       "    </tr>\n",
       "  </tbody>\n",
       "</table>\n",
       "<p>144 rows × 2 columns</p>\n",
       "</div>\n",
       "    <div class=\"colab-df-buttons\">\n",
       "\n",
       "  <div class=\"colab-df-container\">\n",
       "    <button class=\"colab-df-convert\" onclick=\"convertToInteractive('df-6f7c3bda-1b73-499f-982e-7354d212bc7a')\"\n",
       "            title=\"Convert this dataframe to an interactive table.\"\n",
       "            style=\"display:none;\">\n",
       "\n",
       "  <svg xmlns=\"http://www.w3.org/2000/svg\" height=\"24px\" viewBox=\"0 -960 960 960\">\n",
       "    <path d=\"M120-120v-720h720v720H120Zm60-500h600v-160H180v160Zm220 220h160v-160H400v160Zm0 220h160v-160H400v160ZM180-400h160v-160H180v160Zm440 0h160v-160H620v160ZM180-180h160v-160H180v160Zm440 0h160v-160H620v160Z\"/>\n",
       "  </svg>\n",
       "    </button>\n",
       "\n",
       "  <style>\n",
       "    .colab-df-container {\n",
       "      display:flex;\n",
       "      gap: 12px;\n",
       "    }\n",
       "\n",
       "    .colab-df-convert {\n",
       "      background-color: #E8F0FE;\n",
       "      border: none;\n",
       "      border-radius: 50%;\n",
       "      cursor: pointer;\n",
       "      display: none;\n",
       "      fill: #1967D2;\n",
       "      height: 32px;\n",
       "      padding: 0 0 0 0;\n",
       "      width: 32px;\n",
       "    }\n",
       "\n",
       "    .colab-df-convert:hover {\n",
       "      background-color: #E2EBFA;\n",
       "      box-shadow: 0px 1px 2px rgba(60, 64, 67, 0.3), 0px 1px 3px 1px rgba(60, 64, 67, 0.15);\n",
       "      fill: #174EA6;\n",
       "    }\n",
       "\n",
       "    .colab-df-buttons div {\n",
       "      margin-bottom: 4px;\n",
       "    }\n",
       "\n",
       "    [theme=dark] .colab-df-convert {\n",
       "      background-color: #3B4455;\n",
       "      fill: #D2E3FC;\n",
       "    }\n",
       "\n",
       "    [theme=dark] .colab-df-convert:hover {\n",
       "      background-color: #434B5C;\n",
       "      box-shadow: 0px 1px 3px 1px rgba(0, 0, 0, 0.15);\n",
       "      filter: drop-shadow(0px 1px 2px rgba(0, 0, 0, 0.3));\n",
       "      fill: #FFFFFF;\n",
       "    }\n",
       "  </style>\n",
       "\n",
       "    <script>\n",
       "      const buttonEl =\n",
       "        document.querySelector('#df-6f7c3bda-1b73-499f-982e-7354d212bc7a button.colab-df-convert');\n",
       "      buttonEl.style.display =\n",
       "        google.colab.kernel.accessAllowed ? 'block' : 'none';\n",
       "\n",
       "      async function convertToInteractive(key) {\n",
       "        const element = document.querySelector('#df-6f7c3bda-1b73-499f-982e-7354d212bc7a');\n",
       "        const dataTable =\n",
       "          await google.colab.kernel.invokeFunction('convertToInteractive',\n",
       "                                                    [key], {});\n",
       "        if (!dataTable) return;\n",
       "\n",
       "        const docLinkHtml = 'Like what you see? Visit the ' +\n",
       "          '<a target=\"_blank\" href=https://colab.research.google.com/notebooks/data_table.ipynb>data table notebook</a>'\n",
       "          + ' to learn more about interactive tables.';\n",
       "        element.innerHTML = '';\n",
       "        dataTable['output_type'] = 'display_data';\n",
       "        await google.colab.output.renderOutput(dataTable, element);\n",
       "        const docLink = document.createElement('div');\n",
       "        docLink.innerHTML = docLinkHtml;\n",
       "        element.appendChild(docLink);\n",
       "      }\n",
       "    </script>\n",
       "  </div>\n",
       "\n",
       "\n",
       "<div id=\"df-27e7130f-6b7b-4411-892d-5d832c70ec34\">\n",
       "  <button class=\"colab-df-quickchart\" onclick=\"quickchart('df-27e7130f-6b7b-4411-892d-5d832c70ec34')\"\n",
       "            title=\"Suggest charts\"\n",
       "            style=\"display:none;\">\n",
       "\n",
       "<svg xmlns=\"http://www.w3.org/2000/svg\" height=\"24px\"viewBox=\"0 0 24 24\"\n",
       "     width=\"24px\">\n",
       "    <g>\n",
       "        <path d=\"M19 3H5c-1.1 0-2 .9-2 2v14c0 1.1.9 2 2 2h14c1.1 0 2-.9 2-2V5c0-1.1-.9-2-2-2zM9 17H7v-7h2v7zm4 0h-2V7h2v10zm4 0h-2v-4h2v4z\"/>\n",
       "    </g>\n",
       "</svg>\n",
       "  </button>\n",
       "\n",
       "<style>\n",
       "  .colab-df-quickchart {\n",
       "      --bg-color: #E8F0FE;\n",
       "      --fill-color: #1967D2;\n",
       "      --hover-bg-color: #E2EBFA;\n",
       "      --hover-fill-color: #174EA6;\n",
       "      --disabled-fill-color: #AAA;\n",
       "      --disabled-bg-color: #DDD;\n",
       "  }\n",
       "\n",
       "  [theme=dark] .colab-df-quickchart {\n",
       "      --bg-color: #3B4455;\n",
       "      --fill-color: #D2E3FC;\n",
       "      --hover-bg-color: #434B5C;\n",
       "      --hover-fill-color: #FFFFFF;\n",
       "      --disabled-bg-color: #3B4455;\n",
       "      --disabled-fill-color: #666;\n",
       "  }\n",
       "\n",
       "  .colab-df-quickchart {\n",
       "    background-color: var(--bg-color);\n",
       "    border: none;\n",
       "    border-radius: 50%;\n",
       "    cursor: pointer;\n",
       "    display: none;\n",
       "    fill: var(--fill-color);\n",
       "    height: 32px;\n",
       "    padding: 0;\n",
       "    width: 32px;\n",
       "  }\n",
       "\n",
       "  .colab-df-quickchart:hover {\n",
       "    background-color: var(--hover-bg-color);\n",
       "    box-shadow: 0 1px 2px rgba(60, 64, 67, 0.3), 0 1px 3px 1px rgba(60, 64, 67, 0.15);\n",
       "    fill: var(--button-hover-fill-color);\n",
       "  }\n",
       "\n",
       "  .colab-df-quickchart-complete:disabled,\n",
       "  .colab-df-quickchart-complete:disabled:hover {\n",
       "    background-color: var(--disabled-bg-color);\n",
       "    fill: var(--disabled-fill-color);\n",
       "    box-shadow: none;\n",
       "  }\n",
       "\n",
       "  .colab-df-spinner {\n",
       "    border: 2px solid var(--fill-color);\n",
       "    border-color: transparent;\n",
       "    border-bottom-color: var(--fill-color);\n",
       "    animation:\n",
       "      spin 1s steps(1) infinite;\n",
       "  }\n",
       "\n",
       "  @keyframes spin {\n",
       "    0% {\n",
       "      border-color: transparent;\n",
       "      border-bottom-color: var(--fill-color);\n",
       "      border-left-color: var(--fill-color);\n",
       "    }\n",
       "    20% {\n",
       "      border-color: transparent;\n",
       "      border-left-color: var(--fill-color);\n",
       "      border-top-color: var(--fill-color);\n",
       "    }\n",
       "    30% {\n",
       "      border-color: transparent;\n",
       "      border-left-color: var(--fill-color);\n",
       "      border-top-color: var(--fill-color);\n",
       "      border-right-color: var(--fill-color);\n",
       "    }\n",
       "    40% {\n",
       "      border-color: transparent;\n",
       "      border-right-color: var(--fill-color);\n",
       "      border-top-color: var(--fill-color);\n",
       "    }\n",
       "    60% {\n",
       "      border-color: transparent;\n",
       "      border-right-color: var(--fill-color);\n",
       "    }\n",
       "    80% {\n",
       "      border-color: transparent;\n",
       "      border-right-color: var(--fill-color);\n",
       "      border-bottom-color: var(--fill-color);\n",
       "    }\n",
       "    90% {\n",
       "      border-color: transparent;\n",
       "      border-bottom-color: var(--fill-color);\n",
       "    }\n",
       "  }\n",
       "</style>\n",
       "\n",
       "  <script>\n",
       "    async function quickchart(key) {\n",
       "      const quickchartButtonEl =\n",
       "        document.querySelector('#' + key + ' button');\n",
       "      quickchartButtonEl.disabled = true;  // To prevent multiple clicks.\n",
       "      quickchartButtonEl.classList.add('colab-df-spinner');\n",
       "      try {\n",
       "        const charts = await google.colab.kernel.invokeFunction(\n",
       "            'suggestCharts', [key], {});\n",
       "      } catch (error) {\n",
       "        console.error('Error during call to suggestCharts:', error);\n",
       "      }\n",
       "      quickchartButtonEl.classList.remove('colab-df-spinner');\n",
       "      quickchartButtonEl.classList.add('colab-df-quickchart-complete');\n",
       "    }\n",
       "    (() => {\n",
       "      let quickchartButtonEl =\n",
       "        document.querySelector('#df-27e7130f-6b7b-4411-892d-5d832c70ec34 button');\n",
       "      quickchartButtonEl.style.display =\n",
       "        google.colab.kernel.accessAllowed ? 'block' : 'none';\n",
       "    })();\n",
       "  </script>\n",
       "</div>\n",
       "\n",
       "  <div id=\"id_989d2b1e-f61b-421a-a054-c78ccb38f35b\">\n",
       "    <style>\n",
       "      .colab-df-generate {\n",
       "        background-color: #E8F0FE;\n",
       "        border: none;\n",
       "        border-radius: 50%;\n",
       "        cursor: pointer;\n",
       "        display: none;\n",
       "        fill: #1967D2;\n",
       "        height: 32px;\n",
       "        padding: 0 0 0 0;\n",
       "        width: 32px;\n",
       "      }\n",
       "\n",
       "      .colab-df-generate:hover {\n",
       "        background-color: #E2EBFA;\n",
       "        box-shadow: 0px 1px 2px rgba(60, 64, 67, 0.3), 0px 1px 3px 1px rgba(60, 64, 67, 0.15);\n",
       "        fill: #174EA6;\n",
       "      }\n",
       "\n",
       "      [theme=dark] .colab-df-generate {\n",
       "        background-color: #3B4455;\n",
       "        fill: #D2E3FC;\n",
       "      }\n",
       "\n",
       "      [theme=dark] .colab-df-generate:hover {\n",
       "        background-color: #434B5C;\n",
       "        box-shadow: 0px 1px 3px 1px rgba(0, 0, 0, 0.15);\n",
       "        filter: drop-shadow(0px 1px 2px rgba(0, 0, 0, 0.3));\n",
       "        fill: #FFFFFF;\n",
       "      }\n",
       "    </style>\n",
       "    <button class=\"colab-df-generate\" onclick=\"generateWithVariable('data2')\"\n",
       "            title=\"Generate code using this dataframe.\"\n",
       "            style=\"display:none;\">\n",
       "\n",
       "  <svg xmlns=\"http://www.w3.org/2000/svg\" height=\"24px\"viewBox=\"0 0 24 24\"\n",
       "       width=\"24px\">\n",
       "    <path d=\"M7,19H8.4L18.45,9,17,7.55,7,17.6ZM5,21V16.75L18.45,3.32a2,2,0,0,1,2.83,0l1.4,1.43a1.91,1.91,0,0,1,.58,1.4,1.91,1.91,0,0,1-.58,1.4L9.25,21ZM18.45,9,17,7.55Zm-12,3A5.31,5.31,0,0,0,4.9,8.1,5.31,5.31,0,0,0,1,6.5,5.31,5.31,0,0,0,4.9,4.9,5.31,5.31,0,0,0,6.5,1,5.31,5.31,0,0,0,8.1,4.9,5.31,5.31,0,0,0,12,6.5,5.46,5.46,0,0,0,6.5,12Z\"/>\n",
       "  </svg>\n",
       "    </button>\n",
       "    <script>\n",
       "      (() => {\n",
       "      const buttonEl =\n",
       "        document.querySelector('#id_989d2b1e-f61b-421a-a054-c78ccb38f35b button.colab-df-generate');\n",
       "      buttonEl.style.display =\n",
       "        google.colab.kernel.accessAllowed ? 'block' : 'none';\n",
       "\n",
       "      buttonEl.onclick = () => {\n",
       "        google.colab.notebook.generateWithVariable('data2');\n",
       "      }\n",
       "      })();\n",
       "    </script>\n",
       "  </div>\n",
       "\n",
       "    </div>\n",
       "  </div>\n"
      ],
      "text/plain": [
       "            air      t\n",
       "1949-01-01  112    1.0\n",
       "1949-02-01  118    2.0\n",
       "1949-03-01  132    3.0\n",
       "1949-04-01  129    4.0\n",
       "1949-05-01  121    5.0\n",
       "...         ...    ...\n",
       "1960-08-01  606  140.0\n",
       "1960-09-01  508  141.0\n",
       "1960-10-01  461  142.0\n",
       "1960-11-01  390  143.0\n",
       "1960-12-01  432  144.0\n",
       "\n",
       "[144 rows x 2 columns]"
      ]
     },
     "execution_count": 89,
     "metadata": {},
     "output_type": "execute_result"
    }
   ],
   "source": [
    "import pandas as pd\n",
    "from datetime import datetime\n",
    "import requests\n",
    "from io import BytesIO\n",
    "\n",
    "air2 = requests.get('https://www.stata-press.com/data/r12/air2.dta').content\n",
    "data2 = pd.read_stata(BytesIO(air2))\n",
    "data2['time'] = data2['time'].apply(lambda x: datetime(int(x), 1, 1))\n",
    "data2.index = pd.date_range(start=data2['time'][0], periods=len(data2), freq='MS')\n",
    "data2 = data2.drop('time', axis=1)\n",
    "data2"
   ]
  },
  {
   "cell_type": "code",
   "execution_count": 90,
   "metadata": {
    "colab": {
     "base_uri": "https://localhost:8080/",
     "height": 423
    },
    "id": "-lP9NIVKxa3B",
    "outputId": "2926fa36-44bf-417c-a638-c7b9348abdda"
   },
   "outputs": [
    {
     "data": {
      "text/html": [
       "\n",
       "  <div id=\"df-78602862-8941-44ef-8a97-99dbad0fc152\" class=\"colab-df-container\">\n",
       "    <div>\n",
       "<style scoped>\n",
       "    .dataframe tbody tr th:only-of-type {\n",
       "        vertical-align: middle;\n",
       "    }\n",
       "\n",
       "    .dataframe tbody tr th {\n",
       "        vertical-align: top;\n",
       "    }\n",
       "\n",
       "    .dataframe thead th {\n",
       "        text-align: right;\n",
       "    }\n",
       "</style>\n",
       "<table border=\"1\" class=\"dataframe\">\n",
       "  <thead>\n",
       "    <tr style=\"text-align: right;\">\n",
       "      <th></th>\n",
       "      <th>air</th>\n",
       "    </tr>\n",
       "  </thead>\n",
       "  <tbody>\n",
       "    <tr>\n",
       "      <th>1949-01-01</th>\n",
       "      <td>112</td>\n",
       "    </tr>\n",
       "    <tr>\n",
       "      <th>1949-02-01</th>\n",
       "      <td>118</td>\n",
       "    </tr>\n",
       "    <tr>\n",
       "      <th>1949-03-01</th>\n",
       "      <td>132</td>\n",
       "    </tr>\n",
       "    <tr>\n",
       "      <th>1949-04-01</th>\n",
       "      <td>129</td>\n",
       "    </tr>\n",
       "    <tr>\n",
       "      <th>1949-05-01</th>\n",
       "      <td>121</td>\n",
       "    </tr>\n",
       "    <tr>\n",
       "      <th>...</th>\n",
       "      <td>...</td>\n",
       "    </tr>\n",
       "    <tr>\n",
       "      <th>1960-08-01</th>\n",
       "      <td>606</td>\n",
       "    </tr>\n",
       "    <tr>\n",
       "      <th>1960-09-01</th>\n",
       "      <td>508</td>\n",
       "    </tr>\n",
       "    <tr>\n",
       "      <th>1960-10-01</th>\n",
       "      <td>461</td>\n",
       "    </tr>\n",
       "    <tr>\n",
       "      <th>1960-11-01</th>\n",
       "      <td>390</td>\n",
       "    </tr>\n",
       "    <tr>\n",
       "      <th>1960-12-01</th>\n",
       "      <td>432</td>\n",
       "    </tr>\n",
       "  </tbody>\n",
       "</table>\n",
       "<p>144 rows × 1 columns</p>\n",
       "</div>\n",
       "    <div class=\"colab-df-buttons\">\n",
       "\n",
       "  <div class=\"colab-df-container\">\n",
       "    <button class=\"colab-df-convert\" onclick=\"convertToInteractive('df-78602862-8941-44ef-8a97-99dbad0fc152')\"\n",
       "            title=\"Convert this dataframe to an interactive table.\"\n",
       "            style=\"display:none;\">\n",
       "\n",
       "  <svg xmlns=\"http://www.w3.org/2000/svg\" height=\"24px\" viewBox=\"0 -960 960 960\">\n",
       "    <path d=\"M120-120v-720h720v720H120Zm60-500h600v-160H180v160Zm220 220h160v-160H400v160Zm0 220h160v-160H400v160ZM180-400h160v-160H180v160Zm440 0h160v-160H620v160ZM180-180h160v-160H180v160Zm440 0h160v-160H620v160Z\"/>\n",
       "  </svg>\n",
       "    </button>\n",
       "\n",
       "  <style>\n",
       "    .colab-df-container {\n",
       "      display:flex;\n",
       "      gap: 12px;\n",
       "    }\n",
       "\n",
       "    .colab-df-convert {\n",
       "      background-color: #E8F0FE;\n",
       "      border: none;\n",
       "      border-radius: 50%;\n",
       "      cursor: pointer;\n",
       "      display: none;\n",
       "      fill: #1967D2;\n",
       "      height: 32px;\n",
       "      padding: 0 0 0 0;\n",
       "      width: 32px;\n",
       "    }\n",
       "\n",
       "    .colab-df-convert:hover {\n",
       "      background-color: #E2EBFA;\n",
       "      box-shadow: 0px 1px 2px rgba(60, 64, 67, 0.3), 0px 1px 3px 1px rgba(60, 64, 67, 0.15);\n",
       "      fill: #174EA6;\n",
       "    }\n",
       "\n",
       "    .colab-df-buttons div {\n",
       "      margin-bottom: 4px;\n",
       "    }\n",
       "\n",
       "    [theme=dark] .colab-df-convert {\n",
       "      background-color: #3B4455;\n",
       "      fill: #D2E3FC;\n",
       "    }\n",
       "\n",
       "    [theme=dark] .colab-df-convert:hover {\n",
       "      background-color: #434B5C;\n",
       "      box-shadow: 0px 1px 3px 1px rgba(0, 0, 0, 0.15);\n",
       "      filter: drop-shadow(0px 1px 2px rgba(0, 0, 0, 0.3));\n",
       "      fill: #FFFFFF;\n",
       "    }\n",
       "  </style>\n",
       "\n",
       "    <script>\n",
       "      const buttonEl =\n",
       "        document.querySelector('#df-78602862-8941-44ef-8a97-99dbad0fc152 button.colab-df-convert');\n",
       "      buttonEl.style.display =\n",
       "        google.colab.kernel.accessAllowed ? 'block' : 'none';\n",
       "\n",
       "      async function convertToInteractive(key) {\n",
       "        const element = document.querySelector('#df-78602862-8941-44ef-8a97-99dbad0fc152');\n",
       "        const dataTable =\n",
       "          await google.colab.kernel.invokeFunction('convertToInteractive',\n",
       "                                                    [key], {});\n",
       "        if (!dataTable) return;\n",
       "\n",
       "        const docLinkHtml = 'Like what you see? Visit the ' +\n",
       "          '<a target=\"_blank\" href=https://colab.research.google.com/notebooks/data_table.ipynb>data table notebook</a>'\n",
       "          + ' to learn more about interactive tables.';\n",
       "        element.innerHTML = '';\n",
       "        dataTable['output_type'] = 'display_data';\n",
       "        await google.colab.output.renderOutput(dataTable, element);\n",
       "        const docLink = document.createElement('div');\n",
       "        docLink.innerHTML = docLinkHtml;\n",
       "        element.appendChild(docLink);\n",
       "      }\n",
       "    </script>\n",
       "  </div>\n",
       "\n",
       "\n",
       "<div id=\"df-75acc84a-716e-4659-8bdb-aab83928d993\">\n",
       "  <button class=\"colab-df-quickchart\" onclick=\"quickchart('df-75acc84a-716e-4659-8bdb-aab83928d993')\"\n",
       "            title=\"Suggest charts\"\n",
       "            style=\"display:none;\">\n",
       "\n",
       "<svg xmlns=\"http://www.w3.org/2000/svg\" height=\"24px\"viewBox=\"0 0 24 24\"\n",
       "     width=\"24px\">\n",
       "    <g>\n",
       "        <path d=\"M19 3H5c-1.1 0-2 .9-2 2v14c0 1.1.9 2 2 2h14c1.1 0 2-.9 2-2V5c0-1.1-.9-2-2-2zM9 17H7v-7h2v7zm4 0h-2V7h2v10zm4 0h-2v-4h2v4z\"/>\n",
       "    </g>\n",
       "</svg>\n",
       "  </button>\n",
       "\n",
       "<style>\n",
       "  .colab-df-quickchart {\n",
       "      --bg-color: #E8F0FE;\n",
       "      --fill-color: #1967D2;\n",
       "      --hover-bg-color: #E2EBFA;\n",
       "      --hover-fill-color: #174EA6;\n",
       "      --disabled-fill-color: #AAA;\n",
       "      --disabled-bg-color: #DDD;\n",
       "  }\n",
       "\n",
       "  [theme=dark] .colab-df-quickchart {\n",
       "      --bg-color: #3B4455;\n",
       "      --fill-color: #D2E3FC;\n",
       "      --hover-bg-color: #434B5C;\n",
       "      --hover-fill-color: #FFFFFF;\n",
       "      --disabled-bg-color: #3B4455;\n",
       "      --disabled-fill-color: #666;\n",
       "  }\n",
       "\n",
       "  .colab-df-quickchart {\n",
       "    background-color: var(--bg-color);\n",
       "    border: none;\n",
       "    border-radius: 50%;\n",
       "    cursor: pointer;\n",
       "    display: none;\n",
       "    fill: var(--fill-color);\n",
       "    height: 32px;\n",
       "    padding: 0;\n",
       "    width: 32px;\n",
       "  }\n",
       "\n",
       "  .colab-df-quickchart:hover {\n",
       "    background-color: var(--hover-bg-color);\n",
       "    box-shadow: 0 1px 2px rgba(60, 64, 67, 0.3), 0 1px 3px 1px rgba(60, 64, 67, 0.15);\n",
       "    fill: var(--button-hover-fill-color);\n",
       "  }\n",
       "\n",
       "  .colab-df-quickchart-complete:disabled,\n",
       "  .colab-df-quickchart-complete:disabled:hover {\n",
       "    background-color: var(--disabled-bg-color);\n",
       "    fill: var(--disabled-fill-color);\n",
       "    box-shadow: none;\n",
       "  }\n",
       "\n",
       "  .colab-df-spinner {\n",
       "    border: 2px solid var(--fill-color);\n",
       "    border-color: transparent;\n",
       "    border-bottom-color: var(--fill-color);\n",
       "    animation:\n",
       "      spin 1s steps(1) infinite;\n",
       "  }\n",
       "\n",
       "  @keyframes spin {\n",
       "    0% {\n",
       "      border-color: transparent;\n",
       "      border-bottom-color: var(--fill-color);\n",
       "      border-left-color: var(--fill-color);\n",
       "    }\n",
       "    20% {\n",
       "      border-color: transparent;\n",
       "      border-left-color: var(--fill-color);\n",
       "      border-top-color: var(--fill-color);\n",
       "    }\n",
       "    30% {\n",
       "      border-color: transparent;\n",
       "      border-left-color: var(--fill-color);\n",
       "      border-top-color: var(--fill-color);\n",
       "      border-right-color: var(--fill-color);\n",
       "    }\n",
       "    40% {\n",
       "      border-color: transparent;\n",
       "      border-right-color: var(--fill-color);\n",
       "      border-top-color: var(--fill-color);\n",
       "    }\n",
       "    60% {\n",
       "      border-color: transparent;\n",
       "      border-right-color: var(--fill-color);\n",
       "    }\n",
       "    80% {\n",
       "      border-color: transparent;\n",
       "      border-right-color: var(--fill-color);\n",
       "      border-bottom-color: var(--fill-color);\n",
       "    }\n",
       "    90% {\n",
       "      border-color: transparent;\n",
       "      border-bottom-color: var(--fill-color);\n",
       "    }\n",
       "  }\n",
       "</style>\n",
       "\n",
       "  <script>\n",
       "    async function quickchart(key) {\n",
       "      const quickchartButtonEl =\n",
       "        document.querySelector('#' + key + ' button');\n",
       "      quickchartButtonEl.disabled = true;  // To prevent multiple clicks.\n",
       "      quickchartButtonEl.classList.add('colab-df-spinner');\n",
       "      try {\n",
       "        const charts = await google.colab.kernel.invokeFunction(\n",
       "            'suggestCharts', [key], {});\n",
       "      } catch (error) {\n",
       "        console.error('Error during call to suggestCharts:', error);\n",
       "      }\n",
       "      quickchartButtonEl.classList.remove('colab-df-spinner');\n",
       "      quickchartButtonEl.classList.add('colab-df-quickchart-complete');\n",
       "    }\n",
       "    (() => {\n",
       "      let quickchartButtonEl =\n",
       "        document.querySelector('#df-75acc84a-716e-4659-8bdb-aab83928d993 button');\n",
       "      quickchartButtonEl.style.display =\n",
       "        google.colab.kernel.accessAllowed ? 'block' : 'none';\n",
       "    })();\n",
       "  </script>\n",
       "</div>\n",
       "\n",
       "    </div>\n",
       "  </div>\n"
      ],
      "text/plain": [
       "            air\n",
       "1949-01-01  112\n",
       "1949-02-01  118\n",
       "1949-03-01  132\n",
       "1949-04-01  129\n",
       "1949-05-01  121\n",
       "...         ...\n",
       "1960-08-01  606\n",
       "1960-09-01  508\n",
       "1960-10-01  461\n",
       "1960-11-01  390\n",
       "1960-12-01  432\n",
       "\n",
       "[144 rows x 1 columns]"
      ]
     },
     "execution_count": 90,
     "metadata": {},
     "output_type": "execute_result"
    }
   ],
   "source": [
    "data2.drop(columns='t')"
   ]
  },
  {
   "cell_type": "code",
   "execution_count": 91,
   "metadata": {
    "colab": {
     "base_uri": "https://localhost:8080/",
     "height": 568
    },
    "id": "3VZMGyH9ukXe",
    "outputId": "8b904111-fc87-4286-d016-b4feb43a893b"
   },
   "outputs": [
    {
     "data": {
      "text/plain": [
       "<Axes: title={'center': 'Air Plot'}>"
      ]
     },
     "execution_count": 91,
     "metadata": {},
     "output_type": "execute_result"
    },
    {
     "data": {
      "image/png": "[encoded data removed]",
      "text/plain": [
       "<Figure size 1000x600 with 1 Axes>"
      ]
     },
     "metadata": {},
     "output_type": "display_data"
    }
   ],
   "source": [
    "data2['air'].plot(figsize=(10, 6), title='Air Plot')"
   ]
  },
  {
   "cell_type": "markdown",
   "metadata": {
    "id": "S_ODxQMExGYF"
   },
   "source": [
    "Notamos que la serie tiene una clara tendencia y estacionalidad. Aunque ya que para esta serie se utilizará un modelo SARIMAX no será necesario diferenciarla."
   ]
  },
  {
   "cell_type": "code",
   "execution_count": 92,
   "metadata": {
    "colab": {
     "base_uri": "https://localhost:8080/",
     "height": 437
    },
    "id": "fAtwA7NO2wNV",
    "outputId": "07591207-d115-414c-bbfd-5f28dba0c5a6"
   },
   "outputs": [
    {
     "data": {
      "image/png": "[encoded data removed]",
      "text/plain": [
       "<Figure size 1600x500 with 2 Axes>"
      ]
     },
     "metadata": {},
     "output_type": "display_data"
    }
   ],
   "source": [
    "# Graficar ACF y PACF\n",
    "def plot_acf_pacf(data, kwargs=dict()):\n",
    "    f = plt.figure(figsize=(16,5))\n",
    "\n",
    "    ax1 = f.add_subplot(121)\n",
    "\n",
    "    plot_acf(data2['air'], zero=False, ax=ax1, **kwargs)\n",
    "\n",
    "    ax2 = f.add_subplot(122)\n",
    "    plot_pacf(data2['air'], zero=False, ax=ax2, method='ols', **kwargs)\n",
    "\n",
    "    plt.show()\n",
    "\n",
    "plot_acf_pacf(data2['air'], {'lags':48})"
   ]
  },
  {
   "cell_type": "markdown",
   "metadata": {
    "id": "hCirpPBI5QhB"
   },
   "source": [
    "De la gráfica de PACF podemos notar que existen una estacionalidad importante cada 12 periodos (cada año)."
   ]
  },
  {
   "cell_type": "markdown",
   "metadata": {
    "id": "BBVa9uFj-al8"
   },
   "source": [
    "Para hacer de manera más eficiente la selección de valores para el SARIMAX, se tomarán rangos de estos valores buscando los mejores parámetros para el modelo, tomando como referencia el Criterio de Información de Akaike."
   ]
  },
  {
   "cell_type": "code",
   "execution_count": 93,
   "metadata": {
    "colab": {
     "base_uri": "https://localhost:8080/"
    },
    "id": "Z9w8TklR6Z7f",
    "outputId": "a6b6d01b-e358-4833-e54e-8a26d13d02de"
   },
   "outputs": [
    {
     "name": "stdout",
     "output_type": "stream",
     "text": [
      "Mejores parámetros: (0, 1, 1, 1, 1, 1, 12)\n"
     ]
    }
   ],
   "source": [
    "import itertools\n",
    "\n",
    "p = d = q = range(0, 2)\n",
    "P = D = Q = range(0, 2)\n",
    "S = [12]\n",
    "\n",
    "# Generar todas las combinaciones posibles de parámetros\n",
    "param_combinations = list(itertools.product(p, d, q, P, D, Q, S))\n",
    "\n",
    "best_aic = float(\"inf\")\n",
    "best_params = None\n",
    "\n",
    "for param in param_combinations:\n",
    "    try:\n",
    "        model = sm.tsa.statespace.SARIMAX(data2['air'], order=(param[0], param[1], param[2]),\n",
    "                                           seasonal_order=(param[3], param[4], param[5], param[6]))\n",
    "        results = model.fit()\n",
    "        aic = results.aic\n",
    "        if aic < best_aic:\n",
    "            best_aic = aic\n",
    "            best_params = param\n",
    "    except:\n",
    "        continue\n",
    "\n",
    "print(\"Mejores parámetros:\", best_params)\n"
   ]
  },
  {
   "cell_type": "code",
   "execution_count": 102,
   "metadata": {
    "colab": {
     "base_uri": "https://localhost:8080/"
    },
    "id": "5t4lHpKb6Gfw",
    "outputId": "ee745ff9-61ed-4d2a-d73a-8e72c9f839d3"
   },
   "outputs": [
    {
     "name": "stdout",
     "output_type": "stream",
     "text": [
      "                                     SARIMAX Results                                      \n",
      "==========================================================================================\n",
      "Dep. Variable:                                air   No. Observations:                  144\n",
      "Model:             SARIMAX(0, 1, 1)x(1, 1, 1, 12)   Log Likelihood                -506.164\n",
      "Date:                            Tue, 06 Feb 2024   AIC                           1020.327\n",
      "Time:                                    15:17:03   BIC                           1031.828\n",
      "Sample:                                01-01-1949   HQIC                          1025.001\n",
      "                                     - 12-01-1960                                         \n",
      "Covariance Type:                              opg                                         \n",
      "==============================================================================\n",
      "                 coef    std err          z      P>|z|      [0.025      0.975]\n",
      "------------------------------------------------------------------------------\n",
      "ma.L1         -0.3441      0.073     -4.701      0.000      -0.487      -0.201\n",
      "ar.S.L12      -0.9382      0.206     -4.562      0.000      -1.341      -0.535\n",
      "ma.S.L12       0.8553      0.307      2.787      0.005       0.254       1.457\n",
      "sigma2       130.5375     15.604      8.366      0.000      99.955     161.120\n",
      "===================================================================================\n",
      "Ljung-Box (L1) (Q):                   0.00   Jarque-Bera (JB):                 6.13\n",
      "Prob(Q):                              0.97   Prob(JB):                         0.05\n",
      "Heteroskedasticity (H):               2.68   Skew:                             0.14\n",
      "Prob(H) (two-sided):                  0.00   Kurtosis:                         4.02\n",
      "===================================================================================\n",
      "\n",
      "Warnings:\n",
      "[1] Covariance matrix calculated using the outer product of gradients (complex-step).\n"
     ]
    }
   ],
   "source": [
    "import statsmodels.api as sm\n",
    "sarima_model = sm.tsa.statespace.SARIMAX(data2['air'], order=(0, 1, 1), seasonal_order=(1, 1, 1, 12))\n",
    "results_sarima = sarima_model.fit()\n",
    "print(results_sarima.summary())"
   ]
  },
  {
   "cell_type": "markdown",
   "metadata": {
    "id": "gSVHPCY279GV"
   },
   "source": [
    "4. Realizar una predicción de 20 unidades de tiempo en el futuro, tanto para el modelo ARIMA como SARIMA y reportar los resulados en una gráfica donde se puedan observar los datos reales y los datos predichos."
   ]
  },
  {
   "cell_type": "markdown",
   "metadata": {
    "id": "KZ92wGyr8GH1"
   },
   "source": [
    "### Predicción modelo ARIMA"
   ]
  },
  {
   "cell_type": "code",
   "execution_count": 97,
   "metadata": {
    "colab": {
     "base_uri": "https://localhost:8080/",
     "height": 698
    },
    "id": "Y_11csGe8NhL",
    "outputId": "82eff123-7da4-444c-e38b-2f5e85a180e4"
   },
   "outputs": [
    {
     "data": {
      "text/plain": [
       "<Axes: >"
      ]
     },
     "execution_count": 97,
     "metadata": {},
     "output_type": "execute_result"
    },
    {
     "data": {
      "image/png": "[encoded data removed]",
      "text/plain": [
       "<Figure size 1200x800 with 1 Axes>"
      ]
     },
     "metadata": {},
     "output_type": "display_data"
    }
   ],
   "source": [
    "#Predicción con el mejor modelo ARIMA\n",
    "data['forecast'] = model3.predict(start=80,end=100,dynamic=True)\n",
    "data[['values','forecast']].plot(figsize=(12,8))"
   ]
  },
  {
   "cell_type": "markdown",
   "metadata": {
    "id": "2097cy6r8NvC"
   },
   "source": [
    "### Predicción modelo SARIMA"
   ]
  },
  {
   "cell_type": "code",
   "execution_count": 103,
   "metadata": {
    "colab": {
     "base_uri": "https://localhost:8080/",
     "height": 698
    },
    "id": "TE3lkoNC2A_W",
    "outputId": "a96195f9-8f34-4598-9337-5f8b28c12e6a"
   },
   "outputs": [
    {
     "data": {
      "text/plain": [
       "<Axes: >"
      ]
     },
     "execution_count": 103,
     "metadata": {},
     "output_type": "execute_result"
    },
    {
     "data": {
      "image/png": "[encoded data removed]",
      "text/plain": [
       "<Figure size 1200x800 with 1 Axes>"
      ]
     },
     "metadata": {},
     "output_type": "display_data"
    }
   ],
   "source": [
    "#Predicción con el mejor modelo SARIMA\n",
    "data2['forecast']=results_sarima.predict(start=124,end=144,dynamic=True)\n",
    "data2[['air','forecast']].plot(figsize=(12,8))"
   ]
  },
  {
   "cell_type": "markdown",
   "metadata": {
    "id": "MRLDpt15FhF3"
   },
   "source": [
    "### Solución estudiante 2: Flavio Herrada"
   ]
  },
  {
   "cell_type": "code",
   "execution_count": 2,
   "metadata": {},
   "outputs": [
    {
     "data": {
      "text/html": [
       "<div>\n",
       "<style scoped>\n",
       "    .dataframe tbody tr th:only-of-type {\n",
       "        vertical-align: middle;\n",
       "    }\n",
       "\n",
       "    .dataframe tbody tr th {\n",
       "        vertical-align: top;\n",
       "    }\n",
       "\n",
       "    .dataframe thead th {\n",
       "        text-align: right;\n",
       "    }\n",
       "</style>\n",
       "<table border=\"1\" class=\"dataframe\">\n",
       "  <thead>\n",
       "    <tr style=\"text-align: right;\">\n",
       "      <th></th>\n",
       "      <th>values</th>\n",
       "    </tr>\n",
       "  </thead>\n",
       "  <tbody>\n",
       "    <tr>\n",
       "      <th>1</th>\n",
       "      <td>88</td>\n",
       "    </tr>\n",
       "    <tr>\n",
       "      <th>2</th>\n",
       "      <td>84</td>\n",
       "    </tr>\n",
       "    <tr>\n",
       "      <th>3</th>\n",
       "      <td>85</td>\n",
       "    </tr>\n",
       "    <tr>\n",
       "      <th>4</th>\n",
       "      <td>85</td>\n",
       "    </tr>\n",
       "    <tr>\n",
       "      <th>5</th>\n",
       "      <td>84</td>\n",
       "    </tr>\n",
       "  </tbody>\n",
       "</table>\n",
       "</div>"
      ],
      "text/plain": [
       "   values\n",
       "1      88\n",
       "2      84\n",
       "3      85\n",
       "4      85\n",
       "5      84"
      ]
     },
     "execution_count": 2,
     "metadata": {},
     "output_type": "execute_result"
    }
   ],
   "source": [
    "#Importamos los datos de WWWusage\n",
    "data = pd.read_csv('WWWusage.csv', names=['values'], header=0)\n",
    "data.index = data.index.droplevel()\n",
    "data.head()"
   ]
  },
  {
   "cell_type": "markdown",
   "metadata": {},
   "source": [
    "1. Encontrar el mejor modelo ARIMA usando los criterios de AIC, BIC y log-verosimilud, justificando la estructura propuesta.\n"
   ]
  },
  {
   "cell_type": "code",
   "execution_count": 3,
   "metadata": {},
   "outputs": [
    {
     "data": {
      "text/plain": [
       "<Axes: >"
      ]
     },
     "execution_count": 3,
     "metadata": {},
     "output_type": "execute_result"
    },
    {
     "data": {
      "image/png": "[encoded data removed]",
      "text/plain": [
       "<Figure size 800x500 with 1 Axes>"
      ]
     },
     "metadata": {},
     "output_type": "display_data"
    }
   ],
   "source": [
    "data.plot(figsize=(8,5))"
   ]
  },
  {
   "cell_type": "markdown",
   "metadata": {},
   "source": [
    "Esta serie de tiempo no es estacionaria, pero vamos a comprobarlo con el Fuller:"
   ]
  },
  {
   "cell_type": "code",
   "execution_count": 4,
   "metadata": {},
   "outputs": [
    {
     "name": "stdout",
     "output_type": "stream",
     "text": [
      "Results of Dickey-Fuller Test:\n",
      "Test Statistic                 -2.464240\n",
      "p-value                         0.124419\n",
      "#Lags Used                      3.000000\n",
      "Number of Observations Used    96.000000\n",
      "Critical Value (1%)            -3.500379\n",
      "Critical Value (5%)            -2.892152\n",
      "Critical Value (10%)           -2.583100\n",
      "dtype: float64\n",
      "\u001b[31mNon-stationary\u001b[0m\n"
     ]
    }
   ],
   "source": [
    "def adf_test(timeseries):\n",
    "    print(\"Results of Dickey-Fuller Test:\")\n",
    "    dftest = adfuller(timeseries, autolag=\"AIC\")\n",
    "    dfoutput = pd.Series(\n",
    "        dftest[0:4],\n",
    "        index=[\n",
    "            \"Test Statistic\",\n",
    "            \"p-value\",\n",
    "            \"#Lags Used\",\n",
    "            \"Number of Observations Used\",\n",
    "        ],\n",
    "    )\n",
    "    for key, value in dftest[4].items():\n",
    "        dfoutput[\"Critical Value (%s)\" % key] = value\n",
    "    print(dfoutput)\n",
    "\n",
    "    if (dftest[1] <= 0.05) & (dftest[4]['5%'] > dftest[0]):\n",
    "        print(\"\\u001b[32mStationary\\u001b[0m\")\n",
    "    else:\n",
    "        print(\"\\x1b[31mNon-stationary\\x1b[0m\")\n",
    "        \n",
    "adf_test(data)"
   ]
  },
  {
   "cell_type": "markdown",
   "metadata": {},
   "source": [
    "Vemos que estabamos en lo correcto ya que el test nos arrojó que no es estacionario, entonces usar unas graficas de corr no nos funcionan por lo tanto es necesario hacer una diferenciación."
   ]
  },
  {
   "cell_type": "code",
   "execution_count": 5,
   "metadata": {},
   "outputs": [
    {
     "data": {
      "text/html": [
       "<div>\n",
       "<style scoped>\n",
       "    .dataframe tbody tr th:only-of-type {\n",
       "        vertical-align: middle;\n",
       "    }\n",
       "\n",
       "    .dataframe tbody tr th {\n",
       "        vertical-align: top;\n",
       "    }\n",
       "\n",
       "    .dataframe thead th {\n",
       "        text-align: right;\n",
       "    }\n",
       "</style>\n",
       "<table border=\"1\" class=\"dataframe\">\n",
       "  <thead>\n",
       "    <tr style=\"text-align: right;\">\n",
       "      <th></th>\n",
       "      <th>real</th>\n",
       "      <th>1d</th>\n",
       "      <th>p=2</th>\n",
       "      <th>2d</th>\n",
       "    </tr>\n",
       "  </thead>\n",
       "  <tbody>\n",
       "    <tr>\n",
       "      <th>1</th>\n",
       "      <td>88</td>\n",
       "      <td>NaN</td>\n",
       "      <td>NaN</td>\n",
       "      <td>NaN</td>\n",
       "    </tr>\n",
       "    <tr>\n",
       "      <th>2</th>\n",
       "      <td>84</td>\n",
       "      <td>-4.0</td>\n",
       "      <td>NaN</td>\n",
       "      <td>NaN</td>\n",
       "    </tr>\n",
       "    <tr>\n",
       "      <th>3</th>\n",
       "      <td>85</td>\n",
       "      <td>1.0</td>\n",
       "      <td>-3.0</td>\n",
       "      <td>5.0</td>\n",
       "    </tr>\n",
       "    <tr>\n",
       "      <th>4</th>\n",
       "      <td>85</td>\n",
       "      <td>0.0</td>\n",
       "      <td>1.0</td>\n",
       "      <td>-1.0</td>\n",
       "    </tr>\n",
       "    <tr>\n",
       "      <th>5</th>\n",
       "      <td>84</td>\n",
       "      <td>-1.0</td>\n",
       "      <td>-1.0</td>\n",
       "      <td>-1.0</td>\n",
       "    </tr>\n",
       "    <tr>\n",
       "      <th>...</th>\n",
       "      <td>...</td>\n",
       "      <td>...</td>\n",
       "      <td>...</td>\n",
       "      <td>...</td>\n",
       "    </tr>\n",
       "    <tr>\n",
       "      <th>96</th>\n",
       "      <td>222</td>\n",
       "      <td>7.0</td>\n",
       "      <td>12.0</td>\n",
       "      <td>2.0</td>\n",
       "    </tr>\n",
       "    <tr>\n",
       "      <th>97</th>\n",
       "      <td>228</td>\n",
       "      <td>6.0</td>\n",
       "      <td>13.0</td>\n",
       "      <td>-1.0</td>\n",
       "    </tr>\n",
       "    <tr>\n",
       "      <th>98</th>\n",
       "      <td>226</td>\n",
       "      <td>-2.0</td>\n",
       "      <td>4.0</td>\n",
       "      <td>-8.0</td>\n",
       "    </tr>\n",
       "    <tr>\n",
       "      <th>99</th>\n",
       "      <td>222</td>\n",
       "      <td>-4.0</td>\n",
       "      <td>-6.0</td>\n",
       "      <td>-2.0</td>\n",
       "    </tr>\n",
       "    <tr>\n",
       "      <th>100</th>\n",
       "      <td>220</td>\n",
       "      <td>-2.0</td>\n",
       "      <td>-6.0</td>\n",
       "      <td>2.0</td>\n",
       "    </tr>\n",
       "  </tbody>\n",
       "</table>\n",
       "<p>100 rows × 4 columns</p>\n",
       "</div>"
      ],
      "text/plain": [
       "     real   1d   p=2   2d\n",
       "1      88  NaN   NaN  NaN\n",
       "2      84 -4.0   NaN  NaN\n",
       "3      85  1.0  -3.0  5.0\n",
       "4      85  0.0   1.0 -1.0\n",
       "5      84 -1.0  -1.0 -1.0\n",
       "..    ...  ...   ...  ...\n",
       "96    222  7.0  12.0  2.0\n",
       "97    228  6.0  13.0 -1.0\n",
       "98    226 -2.0   4.0 -8.0\n",
       "99    222 -4.0  -6.0 -2.0\n",
       "100   220 -2.0  -6.0  2.0\n",
       "\n",
       "[100 rows x 4 columns]"
      ]
     },
     "execution_count": 5,
     "metadata": {},
     "output_type": "execute_result"
    }
   ],
   "source": [
    "ilust = pd.DataFrame()\n",
    "\n",
    "ilust['real'] = data\n",
    "ilust['1d'] = data.diff()\n",
    "ilust['p=2'] = data.diff(periods=2)\n",
    "ilust['2d'] = data.diff().diff()\n",
    "\n",
    "ilust"
   ]
  },
  {
   "cell_type": "markdown",
   "metadata": {},
   "source": [
    "Vamos a utilizar los datos diferenciados con una sola diferenciacion, quitando los nulos en el paso:"
   ]
  },
  {
   "cell_type": "code",
   "execution_count": 6,
   "metadata": {},
   "outputs": [
    {
     "name": "stdout",
     "output_type": "stream",
     "text": [
      "ADF para derivada primer orden...\n",
      "\n",
      "Results of Dickey-Fuller Test:\n",
      "Test Statistic                 -2.722238\n",
      "p-value                         0.070268\n",
      "#Lags Used                      2.000000\n",
      "Number of Observations Used    96.000000\n",
      "Critical Value (1%)            -3.500379\n",
      "Critical Value (5%)            -2.892152\n",
      "Critical Value (10%)           -2.583100\n",
      "dtype: float64\n",
      "\u001b[31mNon-stationary\u001b[0m\n",
      "ADF para derivada segundo orden...\n",
      "\n",
      "Results of Dickey-Fuller Test:\n",
      "Test Statistic                -9.929762e+00\n",
      "p-value                        2.843429e-17\n",
      "#Lags Used                     1.000000e+00\n",
      "Number of Observations Used    9.600000e+01\n",
      "Critical Value (1%)           -3.500379e+00\n",
      "Critical Value (5%)           -2.892152e+00\n",
      "Critical Value (10%)          -2.583100e+00\n",
      "dtype: float64\n",
      "\u001b[32mStationary\u001b[0m\n"
     ]
    }
   ],
   "source": [
    "diff1_values = data.diff().dropna()\n",
    "\n",
    "print('ADF para derivada primer orden...\\n')\n",
    "adf_test(diff1_values)\n",
    "\n",
    "diff2_values = data.diff().diff().dropna()\n",
    "\n",
    "print('ADF para derivada segundo orden...\\n')\n",
    "adf_test(diff2_values)"
   ]
  },
  {
   "cell_type": "markdown",
   "metadata": {},
   "source": [
    "Cuando solo diferencio una vez nos damos cuenta que no es estacionaria, pero esta cerca de no cerlo. Pero cuando lo hacemos para segundo orden si es estacionaria con un criterio del 5%, asi que ahora si vamos a graficar la autocorrelacion para analizarla:"
   ]
  },
  {
   "cell_type": "code",
   "execution_count": 7,
   "metadata": {},
   "outputs": [
    {
     "data": {
      "image/png": "[encoded data removed]",
      "text/plain": [
       "<Figure size 800x500 with 2 Axes>"
      ]
     },
     "metadata": {},
     "output_type": "display_data"
    }
   ],
   "source": [
    "# Graficar ACF y PACF\n",
    "def plot_acf_pacf(data, kwargs=dict()):\n",
    "    f = plt.figure(figsize=(8,5))\n",
    "\n",
    "    ax1 = f.add_subplot(121)\n",
    "\n",
    "    plot_acf(data, zero=False, ax=ax1, **kwargs)\n",
    "\n",
    "    ax2 = f.add_subplot(122)\n",
    "    plot_pacf(data, zero=False, ax=ax2, method='ols', **kwargs)\n",
    "\n",
    "    plt.show()\n",
    "\n",
    "plot_acf_pacf(diff2_values, {'lags':40})"
   ]
  },
  {
   "cell_type": "markdown",
   "metadata": {},
   "source": [
    "Analizando puedo proponer que de diferenciacion ($d$) sea dos, el grado de autocorrelacion ($p$) igual de 2 y $q$ sea 2 tambien. Pero tendremos que probar con ARIMA."
   ]
  },
  {
   "cell_type": "code",
   "execution_count": 8,
   "metadata": {},
   "outputs": [
    {
     "name": "stdout",
     "output_type": "stream",
     "text": [
      "                               SARIMAX Results                                \n",
      "==============================================================================\n",
      "Dep. Variable:                 values   No. Observations:                  100\n",
      "Model:                 ARIMA(2, 2, 2)   Log Likelihood                -252.565\n",
      "Date:                Tue, 06 Feb 2024   AIC                            515.131\n",
      "Time:                        16:56:05   BIC                            528.055\n",
      "Sample:                             0   HQIC                           520.358\n",
      "                                - 100                                         \n",
      "Covariance Type:                  opg                                         \n",
      "==============================================================================\n",
      "                 coef    std err          z      P>|z|      [0.025      0.975]\n",
      "------------------------------------------------------------------------------\n",
      "ar.L1          0.3722      0.244      1.526      0.127      -0.106       0.850\n",
      "ar.L2         -0.3903      0.199     -1.966      0.049      -0.779      -0.001\n",
      "ma.L1         -0.1374      0.256     -0.537      0.591      -0.639       0.364\n",
      "ma.L2         -0.0902      0.207     -0.435      0.663      -0.496       0.316\n",
      "sigma2        10.0909      1.531      6.590      0.000       7.090      13.092\n",
      "===================================================================================\n",
      "Ljung-Box (L1) (Q):                   0.00   Jarque-Bera (JB):                 0.04\n",
      "Prob(Q):                              0.97   Prob(JB):                         0.98\n",
      "Heteroskedasticity (H):               0.50   Skew:                            -0.05\n",
      "Prob(H) (two-sided):                  0.05   Kurtosis:                         3.00\n",
      "===================================================================================\n",
      "\n",
      "Warnings:\n",
      "[1] Covariance matrix calculated using the outer product of gradients (complex-step).\n"
     ]
    }
   ],
   "source": [
    "arima_model1 = ARIMA(data, order=(2, 2, 2))\n",
    "model1 = arima_model1.fit()\n",
    "print(model1.summary())"
   ]
  },
  {
   "cell_type": "markdown",
   "metadata": {},
   "source": [
    "Cometimos un error al hacerlo, pues nos fijamos que en las graficas solo dependen del dos, no del uno y dos. Vamos a corregirlo:"
   ]
  },
  {
   "cell_type": "code",
   "execution_count": 9,
   "metadata": {},
   "outputs": [
    {
     "name": "stdout",
     "output_type": "stream",
     "text": [
      "                               SARIMAX Results                                \n",
      "==============================================================================\n",
      "Dep. Variable:                 values   No. Observations:                  100\n",
      "Model:             ARIMA([2], 2, [2])   Log Likelihood                -256.198\n",
      "Date:                Tue, 06 Feb 2024   AIC                            518.396\n",
      "Time:                        16:56:06   BIC                            526.151\n",
      "Sample:                             0   HQIC                           521.532\n",
      "                                - 100                                         \n",
      "Covariance Type:                  opg                                         \n",
      "==============================================================================\n",
      "                 coef    std err          z      P>|z|      [0.025      0.975]\n",
      "------------------------------------------------------------------------------\n",
      "ar.L2         -0.2090      0.240     -0.870      0.384      -0.680       0.262\n",
      "ma.L2         -0.2188      0.238     -0.918      0.359      -0.686       0.248\n",
      "sigma2        10.8799      1.740      6.253      0.000       7.470      14.290\n",
      "===================================================================================\n",
      "Ljung-Box (L1) (Q):                   4.74   Jarque-Bera (JB):                 0.32\n",
      "Prob(Q):                              0.03   Prob(JB):                         0.85\n",
      "Heteroskedasticity (H):               0.57   Skew:                            -0.03\n",
      "Prob(H) (two-sided):                  0.11   Kurtosis:                         2.73\n",
      "===================================================================================\n",
      "\n",
      "Warnings:\n",
      "[1] Covariance matrix calculated using the outer product of gradients (complex-step).\n"
     ]
    }
   ],
   "source": [
    "# Basado en lo discutido anteriormente, necesitamos sólo considerar algunos términos AR y MA.\n",
    "# Para ello definimos sus coeficientos cómo la especificación de polinomios\n",
    "\n",
    "# Términos de AR\n",
    "ar = (0, 1)  # (alpha1, alpha2)\n",
    "# Términos de MA\n",
    "ma = (0, 1)  # (beta1, beta2)\n",
    "\n",
    "arima_model2 = ARIMA(data, order=(ar, 2, ma))\n",
    "model2 = arima_model2.fit()\n",
    "print(model2.summary())"
   ]
  },
  {
   "cell_type": "markdown",
   "metadata": {},
   "source": [
    "Aunque basandonos en el Log Likelihood que es mas grande en el model1, AIC más pequeño en el model1 y BIC más pequeño en el model 1 son indicadores de que el model1 sigue siendo mejor que el model2. Vamos a hacer más experimentos:"
   ]
  },
  {
   "cell_type": "code",
   "execution_count": 10,
   "metadata": {},
   "outputs": [
    {
     "name": "stdout",
     "output_type": "stream",
     "text": [
      "                               SARIMAX Results                                \n",
      "==============================================================================\n",
      "Dep. Variable:                 values   No. Observations:                  100\n",
      "Model:                 ARIMA(1, 2, 1)   Log Likelihood                -258.796\n",
      "Date:                Tue, 06 Feb 2024   AIC                            523.592\n",
      "Time:                        16:56:06   BIC                            531.347\n",
      "Sample:                             0   HQIC                           526.729\n",
      "                                - 100                                         \n",
      "Covariance Type:                  opg                                         \n",
      "==============================================================================\n",
      "                 coef    std err          z      P>|z|      [0.025      0.975]\n",
      "------------------------------------------------------------------------------\n",
      "ar.L1         -0.2662      0.215     -1.238      0.216      -0.688       0.155\n",
      "ma.L1          0.6140      0.169      3.635      0.000       0.283       0.945\n",
      "sigma2        11.4929      1.666      6.897      0.000       8.227      14.759\n",
      "===================================================================================\n",
      "Ljung-Box (L1) (Q):                   0.27   Jarque-Bera (JB):                 0.01\n",
      "Prob(Q):                              0.60   Prob(JB):                         1.00\n",
      "Heteroskedasticity (H):               0.59   Skew:                             0.00\n",
      "Prob(H) (two-sided):                  0.13   Kurtosis:                         2.96\n",
      "===================================================================================\n",
      "\n",
      "Warnings:\n",
      "[1] Covariance matrix calculated using the outer product of gradients (complex-step).\n"
     ]
    }
   ],
   "source": [
    "arima_model3 = ARIMA(data, order=(1, 2, 1))\n",
    "model3 = arima_model3.fit()\n",
    "print(model3.summary())"
   ]
  },
  {
   "cell_type": "code",
   "execution_count": 11,
   "metadata": {},
   "outputs": [
    {
     "name": "stdout",
     "output_type": "stream",
     "text": [
      "                               SARIMAX Results                                \n",
      "==============================================================================\n",
      "Dep. Variable:                 values   No. Observations:                  100\n",
      "Model:                 ARIMA(2, 2, 1)   Log Likelihood                -252.628\n",
      "Date:                Tue, 06 Feb 2024   AIC                            513.256\n",
      "Time:                        16:56:06   BIC                            523.596\n",
      "Sample:                             0   HQIC                           517.438\n",
      "                                - 100                                         \n",
      "Covariance Type:                  opg                                         \n",
      "==============================================================================\n",
      "                 coef    std err          z      P>|z|      [0.025      0.975]\n",
      "------------------------------------------------------------------------------\n",
      "ar.L1          0.3513      0.236      1.488      0.137      -0.111       0.814\n",
      "ar.L2         -0.4572      0.097     -4.729      0.000      -0.647      -0.268\n",
      "ma.L1         -0.1162      0.254     -0.457      0.647      -0.614       0.382\n",
      "sigma2        10.1043      1.515      6.667      0.000       7.134      13.075\n",
      "===================================================================================\n",
      "Ljung-Box (L1) (Q):                   0.00   Jarque-Bera (JB):                 0.06\n",
      "Prob(Q):                              0.98   Prob(JB):                         0.97\n",
      "Heteroskedasticity (H):               0.49   Skew:                            -0.05\n",
      "Prob(H) (two-sided):                  0.04   Kurtosis:                         2.94\n",
      "===================================================================================\n",
      "\n",
      "Warnings:\n",
      "[1] Covariance matrix calculated using the outer product of gradients (complex-step).\n"
     ]
    }
   ],
   "source": [
    "arima_model4 = ARIMA(data, order=(2, 2, 1))\n",
    "model4 = arima_model4.fit()\n",
    "print(model4.summary())"
   ]
  },
  {
   "cell_type": "code",
   "execution_count": 12,
   "metadata": {},
   "outputs": [
    {
     "name": "stdout",
     "output_type": "stream",
     "text": [
      "                               SARIMAX Results                                \n",
      "==============================================================================\n",
      "Dep. Variable:                 values   No. Observations:                  100\n",
      "Model:                 ARIMA(2, 2, 0)   Log Likelihood                -252.732\n",
      "Date:                Tue, 06 Feb 2024   AIC                            511.465\n",
      "Time:                        16:56:06   BIC                            519.220\n",
      "Sample:                             0   HQIC                           514.601\n",
      "                                - 100                                         \n",
      "Covariance Type:                  opg                                         \n",
      "==============================================================================\n",
      "                 coef    std err          z      P>|z|      [0.025      0.975]\n",
      "------------------------------------------------------------------------------\n",
      "ar.L1          0.2579      0.103      2.510      0.012       0.056       0.459\n",
      "ar.L2         -0.4407      0.087     -5.093      0.000      -0.610      -0.271\n",
      "sigma2        10.1268      1.519      6.668      0.000       7.150      13.103\n",
      "===================================================================================\n",
      "Ljung-Box (L1) (Q):                   0.05   Jarque-Bera (JB):                 0.10\n",
      "Prob(Q):                              0.82   Prob(JB):                         0.95\n",
      "Heteroskedasticity (H):               0.49   Skew:                            -0.07\n",
      "Prob(H) (two-sided):                  0.05   Kurtosis:                         2.92\n",
      "===================================================================================\n",
      "\n",
      "Warnings:\n",
      "[1] Covariance matrix calculated using the outer product of gradients (complex-step).\n"
     ]
    }
   ],
   "source": [
    "arima_model5 = ARIMA(data, order=(2, 2, 0))\n",
    "model5 = arima_model5.fit()\n",
    "print(model5.summary())"
   ]
  },
  {
   "cell_type": "markdown",
   "metadata": {},
   "source": [
    "Vamos a analizar nuestros modelos y compararlos:"
   ]
  },
  {
   "cell_type": "code",
   "execution_count": 13,
   "metadata": {},
   "outputs": [
    {
     "name": "stdout",
     "output_type": "stream",
     "text": [
      "                     Modelo  Log Likelihood         AIC         BIC\n",
      "0      arima_model1 (2,2,2)     -252.565274  515.130547  528.055385\n",
      "1  arima_model2 ([2],2,[2])     -256.197811  518.395623  526.150525\n",
      "2      arima_model3 (1,2,1)     -258.796156  523.592312  531.347214\n",
      "3      arima_model4 (2,2,1)     -252.627966  513.255933  523.595803\n",
      "4      arima_model5 (2,2,0)     -252.732392  511.464783  519.219686\n"
     ]
    }
   ],
   "source": [
    "metrics_data = {\n",
    "    'Modelo': ['arima_model1 (2,2,2)', 'arima_model2 ([2],2,[2])', 'arima_model3 (1,2,1)', 'arima_model4 (2,2,1)', 'arima_model5 (2,2,0)'],\n",
    "    'Log Likelihood': [model1.llf, model2.llf, model3.llf, model4.llf, model5.llf],\n",
    "    'AIC': [model1.aic, model2.aic, model3.aic, model4.aic, model5.aic],\n",
    "    'BIC': [model1.bic, model2.bic, model3.bic, model4.bic, model5.bic]\n",
    "}\n",
    "\n",
    "# Crear un DataFrame con las métricas\n",
    "metrics_df = pd.DataFrame(metrics_data)\n",
    "\n",
    "print(metrics_df)"
   ]
  },
  {
   "cell_type": "markdown",
   "metadata": {},
   "source": [
    "Gracias a las metricas podemos asumir que el model5 es el que mejor nos funciona, ya que la Log Likelihood es casi parecida a todos los modelos, el AIC y el BIC son menores que los demás modelos."
   ]
  },
  {
   "cell_type": "markdown",
   "metadata": {},
   "source": [
    "2. Analizar el efecto de normalizar la serie de tiempo, es decir usar MinMaxScaler para normalizar los datos. Posterior a esto, realizar el mismo precedimiento realizado en clase y encontrar el mejor modelo de ARIMA. Justifique todos los análisis realizados, incluyendo los resultados de las gráficas de ACF y PACF.\n"
   ]
  },
  {
   "cell_type": "code",
   "execution_count": 14,
   "metadata": {},
   "outputs": [
    {
     "data": {
      "text/plain": [
       "array([[0.03448276],\n",
       "       [0.00689655],\n",
       "       [0.0137931 ],\n",
       "       [0.0137931 ],\n",
       "       [0.00689655],\n",
       "       [0.0137931 ],\n",
       "       [0.        ],\n",
       "       [0.0137931 ],\n",
       "       [0.03448276],\n",
       "       [0.04137931],\n",
       "       [0.05517241],\n",
       "       [0.11034483],\n",
       "       [0.14482759],\n",
       "       [0.2       ],\n",
       "       [0.29655172],\n",
       "       [0.37931034],\n",
       "       [0.43448276],\n",
       "       [0.46896552],\n",
       "       [0.46206897],\n",
       "       [0.44827586],\n",
       "       [0.44137931],\n",
       "       [0.45517241],\n",
       "       [0.4137931 ],\n",
       "       [0.33793103],\n",
       "       [0.33103448],\n",
       "       [0.3862069 ],\n",
       "       [0.44137931],\n",
       "       [0.46206897],\n",
       "       [0.44827586],\n",
       "       [0.42758621],\n",
       "       [0.39310345],\n",
       "       [0.35172414],\n",
       "       [0.33103448],\n",
       "       [0.33103448],\n",
       "       [0.31724138],\n",
       "       [0.29655172],\n",
       "       [0.29655172],\n",
       "       [0.33793103],\n",
       "       [0.37241379],\n",
       "       [0.39310345],\n",
       "       [0.40689655],\n",
       "       [0.46206897],\n",
       "       [0.52413793],\n",
       "       [0.57931034],\n",
       "       [0.6       ],\n",
       "       [0.60689655],\n",
       "       [0.6137931 ],\n",
       "       [0.6137931 ],\n",
       "       [0.62758621],\n",
       "       [0.63448276],\n",
       "       [0.6137931 ],\n",
       "       [0.6137931 ],\n",
       "       [0.62758621],\n",
       "       [0.62758621],\n",
       "       [0.59310345],\n",
       "       [0.56551724],\n",
       "       [0.50344828],\n",
       "       [0.40689655],\n",
       "       [0.33103448],\n",
       "       [0.26206897],\n",
       "       [0.2       ],\n",
       "       [0.14482759],\n",
       "       [0.13103448],\n",
       "       [0.11034483],\n",
       "       [0.11034483],\n",
       "       [0.08275862],\n",
       "       [0.03448276],\n",
       "       [0.00689655],\n",
       "       [0.00689655],\n",
       "       [0.02758621],\n",
       "       [0.04137931],\n",
       "       [0.03448276],\n",
       "       [0.0137931 ],\n",
       "       [0.02068966],\n",
       "       [0.04137931],\n",
       "       [0.05517241],\n",
       "       [0.05517241],\n",
       "       [0.07586207],\n",
       "       [0.12413793],\n",
       "       [0.1862069 ],\n",
       "       [0.26206897],\n",
       "       [0.35862069],\n",
       "       [0.42758621],\n",
       "       [0.45517241],\n",
       "       [0.50344828],\n",
       "       [0.56551724],\n",
       "       [0.60689655],\n",
       "       [0.63448276],\n",
       "       [0.64827586],\n",
       "       [0.68275862],\n",
       "       [0.75862069],\n",
       "       [0.83448276],\n",
       "       [0.86206897],\n",
       "       [0.87586207],\n",
       "       [0.91034483],\n",
       "       [0.95862069],\n",
       "       [1.        ],\n",
       "       [0.9862069 ],\n",
       "       [0.95862069],\n",
       "       [0.94482759]])"
      ]
     },
     "execution_count": 14,
     "metadata": {},
     "output_type": "execute_result"
    }
   ],
   "source": [
    "from sklearn.preprocessing import MinMaxScaler\n",
    "\n",
    "# Inicializa el escalador MinMax\n",
    "scaler = MinMaxScaler()\n",
    "\n",
    "# Ajusta el escalador a tus datos y transforma los datos\n",
    "data_n = scaler.fit_transform(data)\n",
    "data_n"
   ]
  },
  {
   "cell_type": "markdown",
   "metadata": {},
   "source": [
    "Ya tenemos normalizados nuestros datos, ahora vamos a realizar el proceso anterior empezando por el Fuller test para ver si la serie se hizo estacionaria:"
   ]
  },
  {
   "cell_type": "code",
   "execution_count": 15,
   "metadata": {},
   "outputs": [
    {
     "name": "stdout",
     "output_type": "stream",
     "text": [
      "Results of Dickey-Fuller Test:\n",
      "Test Statistic                 -2.464240\n",
      "p-value                         0.124419\n",
      "#Lags Used                      3.000000\n",
      "Number of Observations Used    96.000000\n",
      "Critical Value (1%)            -3.500379\n",
      "Critical Value (5%)            -2.892152\n",
      "Critical Value (10%)           -2.583100\n",
      "dtype: float64\n",
      "\u001b[31mNon-stationary\u001b[0m\n"
     ]
    }
   ],
   "source": [
    "adf_test(data_n)"
   ]
  },
  {
   "cell_type": "markdown",
   "metadata": {},
   "source": [
    "Pues no, entonces le haremos una diferenciación otra vez:"
   ]
  },
  {
   "cell_type": "code",
   "execution_count": 16,
   "metadata": {},
   "outputs": [
    {
     "name": "stdout",
     "output_type": "stream",
     "text": [
      "ADF para derivada primer orden...\n",
      "\n",
      "Results of Dickey-Fuller Test:\n",
      "Test Statistic                 -2.722238\n",
      "p-value                         0.070268\n",
      "#Lags Used                      2.000000\n",
      "Number of Observations Used    96.000000\n",
      "Critical Value (1%)            -3.500379\n",
      "Critical Value (5%)            -2.892152\n",
      "Critical Value (10%)           -2.583100\n",
      "dtype: float64\n",
      "\u001b[31mNon-stationary\u001b[0m\n",
      "ADF para derivada segundo orden...\n",
      "\n",
      "Results of Dickey-Fuller Test:\n",
      "Test Statistic                -9.929762e+00\n",
      "p-value                        2.843429e-17\n",
      "#Lags Used                     1.000000e+00\n",
      "Number of Observations Used    9.600000e+01\n",
      "Critical Value (1%)           -3.500379e+00\n",
      "Critical Value (5%)           -2.892152e+00\n",
      "Critical Value (10%)          -2.583100e+00\n",
      "dtype: float64\n",
      "\u001b[32mStationary\u001b[0m\n"
     ]
    }
   ],
   "source": [
    "data_n = pd.DataFrame(data_n, columns=data.columns)\n",
    "data_n\n",
    "\n",
    "diff1_values = data_n.diff().dropna()\n",
    "\n",
    "print('ADF para derivada primer orden...\\n')\n",
    "adf_test(diff1_values)\n",
    "\n",
    "diff2_values = data_n.diff().diff().dropna()\n",
    "\n",
    "print('ADF para derivada segundo orden...\\n')\n",
    "adf_test(diff2_values)"
   ]
  },
  {
   "cell_type": "markdown",
   "metadata": {},
   "source": [
    "Ahora si grafiquemos:"
   ]
  },
  {
   "cell_type": "code",
   "execution_count": 17,
   "metadata": {},
   "outputs": [
    {
     "data": {
      "image/png": "[encoded data removed]",
      "text/plain": [
       "<Figure size 800x500 with 2 Axes>"
      ]
     },
     "metadata": {},
     "output_type": "display_data"
    }
   ],
   "source": [
    "def plot_acf_pacf(data_n, kwargs=dict()):\n",
    "    f = plt.figure(figsize=(8,5))\n",
    "\n",
    "    ax1 = f.add_subplot(121)\n",
    "\n",
    "    plot_acf(data_n, zero=False, ax=ax1, **kwargs)\n",
    "\n",
    "    ax2 = f.add_subplot(122)\n",
    "    plot_pacf(data_n, zero=False, ax=ax2, method='ols', **kwargs)\n",
    "\n",
    "    plt.show()\n",
    "\n",
    "plot_acf_pacf(diff2_values, {'lags':40})"
   ]
  },
  {
   "cell_type": "markdown",
   "metadata": {},
   "source": [
    "Se parece mucho a las graficas de autocorrelación que ya teniamos, pero vamos a ver si los modelos que ya teniamos mejoran con los datos normalizados:"
   ]
  },
  {
   "cell_type": "code",
   "execution_count": 18,
   "metadata": {},
   "outputs": [],
   "source": [
    "arima_model1_n = ARIMA(data_n, order=(2, 2, 2))\n",
    "model1_n = arima_model1_n.fit()\n",
    "\n",
    "arima_model2_n = ARIMA(data_n, order=(ar, 2, ma))\n",
    "model2_n = arima_model2_n.fit()\n",
    "\n",
    "arima_model3_n = ARIMA(data_n, order=(1, 2, 1))\n",
    "model3_n = arima_model3_n.fit()\n",
    "\n",
    "arima_model4_n = ARIMA(data_n, order=(2, 2, 1))\n",
    "model4_n = arima_model4_n.fit()\n",
    "\n",
    "arima_model5_n = ARIMA(data_n, order=(2, 2, 0))\n",
    "model5_n = arima_model5_n.fit()\n",
    "\n",
    "metrics_data = {\n",
    "    'Modelo': ['arima_model1 (2,2,2)', 'arima_model1_n (2,2,2)', \n",
    "               'arima_model2 ([2],2,[2])', 'arima_model2_n (2,2,2)',\n",
    "               'arima_model3 (1,2,1)', 'arima_model3_n (1,2,1)',\n",
    "               'arima_model4 (2,2,1)', 'arima_model4_n (2,2,1)',\n",
    "               'arima_model5 (2,2,0)', 'arima_model5_n (2,2,0)'],\n",
    "    'Log Likelihood': [model1.llf, model1_n.llf,\n",
    "                       model2.llf, model2_n.llf,\n",
    "                       model3.llf, model3_n.llf,\n",
    "                       model4.llf, model4_n.llf,\n",
    "                       model5.llf, model5_n.llf],\n",
    "    'AIC': [model1.aic, model1_n.aic,\n",
    "            model2.aic, model2_n.aic,\n",
    "            model3.aic, model3_n.aic,\n",
    "            model4.aic, model4_n.aic,\n",
    "            model5.aic, model5_n.aic],\n",
    "    'BIC': [model1.bic, model1_n.bic,\n",
    "            model2.bic, model2_n.bic,\n",
    "            model3.bic, model3_n.bic,\n",
    "            model4.bic, model4_n.bic,\n",
    "            model5.bic, model5_n.bic]\n",
    "}\n",
    "\n",
    "# Crear un DataFrame con las métricas\n",
    "metrics_df = pd.DataFrame(metrics_data)"
   ]
  },
  {
   "cell_type": "code",
   "execution_count": 19,
   "metadata": {},
   "outputs": [
    {
     "data": {
      "text/html": [
       "<div>\n",
       "<style scoped>\n",
       "    .dataframe tbody tr th:only-of-type {\n",
       "        vertical-align: middle;\n",
       "    }\n",
       "\n",
       "    .dataframe tbody tr th {\n",
       "        vertical-align: top;\n",
       "    }\n",
       "\n",
       "    .dataframe thead th {\n",
       "        text-align: right;\n",
       "    }\n",
       "</style>\n",
       "<table border=\"1\" class=\"dataframe\">\n",
       "  <thead>\n",
       "    <tr style=\"text-align: right;\">\n",
       "      <th></th>\n",
       "      <th>Modelo</th>\n",
       "      <th>Log Likelihood</th>\n",
       "      <th>AIC</th>\n",
       "      <th>BIC</th>\n",
       "    </tr>\n",
       "  </thead>\n",
       "  <tbody>\n",
       "    <tr>\n",
       "      <th>0</th>\n",
       "      <td>arima_model1 (2,2,2)</td>\n",
       "      <td>-252.565274</td>\n",
       "      <td>515.130547</td>\n",
       "      <td>528.055385</td>\n",
       "    </tr>\n",
       "    <tr>\n",
       "      <th>1</th>\n",
       "      <td>arima_model1_n (2,2,2)</td>\n",
       "      <td>235.151187</td>\n",
       "      <td>-460.302375</td>\n",
       "      <td>-447.377537</td>\n",
       "    </tr>\n",
       "    <tr>\n",
       "      <th>2</th>\n",
       "      <td>arima_model2 ([2],2,[2])</td>\n",
       "      <td>-256.197811</td>\n",
       "      <td>518.395623</td>\n",
       "      <td>526.150525</td>\n",
       "    </tr>\n",
       "    <tr>\n",
       "      <th>3</th>\n",
       "      <td>arima_model2_n (2,2,2)</td>\n",
       "      <td>230.889382</td>\n",
       "      <td>-455.778765</td>\n",
       "      <td>-448.023862</td>\n",
       "    </tr>\n",
       "    <tr>\n",
       "      <th>4</th>\n",
       "      <td>arima_model3 (1,2,1)</td>\n",
       "      <td>-258.796156</td>\n",
       "      <td>523.592312</td>\n",
       "      <td>531.347214</td>\n",
       "    </tr>\n",
       "    <tr>\n",
       "      <th>5</th>\n",
       "      <td>arima_model3_n (1,2,1)</td>\n",
       "      <td>228.923877</td>\n",
       "      <td>-451.847753</td>\n",
       "      <td>-444.092851</td>\n",
       "    </tr>\n",
       "    <tr>\n",
       "      <th>6</th>\n",
       "      <td>arima_model4 (2,2,1)</td>\n",
       "      <td>-252.627966</td>\n",
       "      <td>513.255933</td>\n",
       "      <td>523.595803</td>\n",
       "    </tr>\n",
       "    <tr>\n",
       "      <th>7</th>\n",
       "      <td>arima_model4_n (2,2,1)</td>\n",
       "      <td>235.092009</td>\n",
       "      <td>-462.184017</td>\n",
       "      <td>-451.844147</td>\n",
       "    </tr>\n",
       "    <tr>\n",
       "      <th>8</th>\n",
       "      <td>arima_model5 (2,2,0)</td>\n",
       "      <td>-252.732392</td>\n",
       "      <td>511.464783</td>\n",
       "      <td>519.219686</td>\n",
       "    </tr>\n",
       "    <tr>\n",
       "      <th>9</th>\n",
       "      <td>arima_model5_n (2,2,0)</td>\n",
       "      <td>234.986946</td>\n",
       "      <td>-463.973893</td>\n",
       "      <td>-456.218990</td>\n",
       "    </tr>\n",
       "  </tbody>\n",
       "</table>\n",
       "</div>"
      ],
      "text/plain": [
       "                     Modelo  Log Likelihood         AIC         BIC\n",
       "0      arima_model1 (2,2,2)     -252.565274  515.130547  528.055385\n",
       "1    arima_model1_n (2,2,2)      235.151187 -460.302375 -447.377537\n",
       "2  arima_model2 ([2],2,[2])     -256.197811  518.395623  526.150525\n",
       "3    arima_model2_n (2,2,2)      230.889382 -455.778765 -448.023862\n",
       "4      arima_model3 (1,2,1)     -258.796156  523.592312  531.347214\n",
       "5    arima_model3_n (1,2,1)      228.923877 -451.847753 -444.092851\n",
       "6      arima_model4 (2,2,1)     -252.627966  513.255933  523.595803\n",
       "7    arima_model4_n (2,2,1)      235.092009 -462.184017 -451.844147\n",
       "8      arima_model5 (2,2,0)     -252.732392  511.464783  519.219686\n",
       "9    arima_model5_n (2,2,0)      234.986946 -463.973893 -456.218990"
      ]
     },
     "execution_count": 19,
     "metadata": {},
     "output_type": "execute_result"
    }
   ],
   "source": [
    "metrics_df"
   ]
  },
  {
   "cell_type": "markdown",
   "metadata": {},
   "source": [
    "A simple vista la normalización si optimizó nuestras métricas, pues vemos que Log se hizo mas grande en todos, AIC y BIC se hicieron más pequeñas en todos los modelos. Pero vamos a ver solo las metricas de los modelos con datos normalizados:"
   ]
  },
  {
   "cell_type": "code",
   "execution_count": 20,
   "metadata": {},
   "outputs": [
    {
     "data": {
      "text/html": [
       "<div>\n",
       "<style scoped>\n",
       "    .dataframe tbody tr th:only-of-type {\n",
       "        vertical-align: middle;\n",
       "    }\n",
       "\n",
       "    .dataframe tbody tr th {\n",
       "        vertical-align: top;\n",
       "    }\n",
       "\n",
       "    .dataframe thead th {\n",
       "        text-align: right;\n",
       "    }\n",
       "</style>\n",
       "<table border=\"1\" class=\"dataframe\">\n",
       "  <thead>\n",
       "    <tr style=\"text-align: right;\">\n",
       "      <th></th>\n",
       "      <th>Modelo</th>\n",
       "      <th>Log Likelihood</th>\n",
       "      <th>AIC</th>\n",
       "      <th>BIC</th>\n",
       "    </tr>\n",
       "  </thead>\n",
       "  <tbody>\n",
       "    <tr>\n",
       "      <th>0</th>\n",
       "      <td>arima_model1_n (2,2,2)</td>\n",
       "      <td>235.151187</td>\n",
       "      <td>-460.302375</td>\n",
       "      <td>-447.377537</td>\n",
       "    </tr>\n",
       "    <tr>\n",
       "      <th>1</th>\n",
       "      <td>arima_model2_n (2,2,2)</td>\n",
       "      <td>230.889382</td>\n",
       "      <td>-455.778765</td>\n",
       "      <td>-448.023862</td>\n",
       "    </tr>\n",
       "    <tr>\n",
       "      <th>2</th>\n",
       "      <td>arima_model3_n (1,2,1)</td>\n",
       "      <td>228.923877</td>\n",
       "      <td>-451.847753</td>\n",
       "      <td>-444.092851</td>\n",
       "    </tr>\n",
       "    <tr>\n",
       "      <th>3</th>\n",
       "      <td>arima_model4_n (2,2,1)</td>\n",
       "      <td>235.092009</td>\n",
       "      <td>-462.184017</td>\n",
       "      <td>-451.844147</td>\n",
       "    </tr>\n",
       "    <tr>\n",
       "      <th>4</th>\n",
       "      <td>arima_model5_n (2,2,0)</td>\n",
       "      <td>234.986946</td>\n",
       "      <td>-463.973893</td>\n",
       "      <td>-456.218990</td>\n",
       "    </tr>\n",
       "  </tbody>\n",
       "</table>\n",
       "</div>"
      ],
      "text/plain": [
       "                   Modelo  Log Likelihood         AIC         BIC\n",
       "0  arima_model1_n (2,2,2)      235.151187 -460.302375 -447.377537\n",
       "1  arima_model2_n (2,2,2)      230.889382 -455.778765 -448.023862\n",
       "2  arima_model3_n (1,2,1)      228.923877 -451.847753 -444.092851\n",
       "3  arima_model4_n (2,2,1)      235.092009 -462.184017 -451.844147\n",
       "4  arima_model5_n (2,2,0)      234.986946 -463.973893 -456.218990"
      ]
     },
     "execution_count": 20,
     "metadata": {},
     "output_type": "execute_result"
    }
   ],
   "source": [
    "metrics_data = {\n",
    "    'Modelo': ['arima_model1_n (2,2,2)',\n",
    "               'arima_model2_n (2,2,2)',\n",
    "               'arima_model3_n (1,2,1)',\n",
    "               'arima_model4_n (2,2,1)',\n",
    "               'arima_model5_n (2,2,0)'],\n",
    "    'Log Likelihood': [model1_n.llf,\n",
    "                       model2_n.llf,\n",
    "                       model3_n.llf,\n",
    "                       model4_n.llf,\n",
    "                       model5_n.llf],\n",
    "    'AIC': [model1_n.aic,\n",
    "            model2_n.aic,\n",
    "            model3_n.aic,\n",
    "            model4_n.aic,\n",
    "            model5_n.aic],\n",
    "    'BIC': [model1_n.bic,\n",
    "            model2_n.bic,\n",
    "            model3_n.bic,\n",
    "            model4_n.bic,\n",
    "            model5_n.bic]\n",
    "}\n",
    "\n",
    "# Crear un DataFrame con las métricas\n",
    "metrics_df = pd.DataFrame(metrics_data)\n",
    "metrics_df"
   ]
  },
  {
   "cell_type": "markdown",
   "metadata": {},
   "source": [
    "El modelo que de más Log Likelihood es el model1, el de menos AIC es el model5 y el de menos BIC es el model 5. Aqui es donde entra nuestro criterio, pues el model1 y model 5 tienen practicamente el mismo Log Likelihood, entonces yo decidiré model5, ya que un modelo con menor Log Likelihood, menor AIC y menor BIC indica que el modelo tiene un buen ajuste a los datos y es relativamente simple, evitando el sobreajuste."
   ]
  },
  {
   "cell_type": "markdown",
   "metadata": {},
   "source": [
    "3. Investigar la implementación y teoría de los modelos SARIMAX. Además de eso, generar un modelo de pronóstico usando SARIMAX, donde todo el procediemiento anteriormente descrito es implementado, para el siguiente conjunto de datos con estacionalidad:\n",
    "\n",
    "* air2 = requests.get('https://www.stata-press.com/data/r12/air2.dta').content\n",
    "data2 = pd.read_stata(BytesIO(air2))\n",
    "data2.index = pd.date_range(start=datetime(data2.time[0], 1, 1), periods=len(data2), freq='MS')\n",
    "* Nota: Pueden basarse en el siguiente enlace para entender el análisis a realizar https://analyticsindiamag.com/complete-guide-to-sarimax-in-python-for-time-series-modeling/\n",
    "\n"
   ]
  },
  {
   "cell_type": "markdown",
   "metadata": {},
   "source": [
    "#### INVESTIGACIÓN\n",
    "\n",
    "\n",
    "Los modelos SARIMAX (Seasonal Autoregressive Integrated Moving Average with Exogenous Variables) son una evolución poderosa de los modelos SARIMA, diseñados para abordar las complejidades y las influencias externas presentes en las series temporales\n",
    "\n",
    "Sin embargo, los modelos SARIMA tienen limitaciones, ya que no consideran las influencias externas que podrían afectar la serie temporal. Aquí es donde entran en juego los modelos SARIMAX. La \"X\" en SARIMAX denota la capacidad de incluir variables exógenas en el modelo. Estas variables representan factores externos que pueden afectar la serie temporal, como la publicidad, el clima o eventos económicos.\n",
    "\n",
    "La inclusión de variables exógenas en un modelo SARIMAX permite capturar relaciones más complejas y mejorar la precisión de las predicciones al tener en cuenta factores externos. Esto amplía significativamente la aplicabilidad de los modelos SARIMA, especialmente en situaciones donde los datos están influenciados por múltiples variables externas.\n",
    "\n",
    "La implementación de un modelo SARIMAX implica varios pasos. En primer lugar, se debe seleccionar el orden apropiado de los términos AR, I y MA, así como el orden de los términos estacionales, utilizando técnicas como la inspección visual de los datos, pruebas de estacionariedad y criterios de información como el AIC o el BIC. Luego, se identifican y seleccionan las variables exógenas relevantes, lo que puede requerir un conocimiento profundo del dominio o el uso de técnicas estadísticas.\n",
    "\n",
    "Una vez seleccionado el modelo y las variables exógenas, se estiman los parámetros del modelo mediante métodos de máxima verosimilitud. Esto implica ajustar el modelo a los datos observados y encontrar los valores óptimos de los parámetros que maximizan la probabilidad de que los datos observados se generen a partir del modelo propuesto. La validación del modelo se realiza utilizando conjuntos de datos independientes para evaluar su rendimiento y precisión."
   ]
  },
  {
   "cell_type": "code",
   "execution_count": 21,
   "metadata": {},
   "outputs": [
    {
     "data": {
      "text/html": [
       "<div>\n",
       "<style scoped>\n",
       "    .dataframe tbody tr th:only-of-type {\n",
       "        vertical-align: middle;\n",
       "    }\n",
       "\n",
       "    .dataframe tbody tr th {\n",
       "        vertical-align: top;\n",
       "    }\n",
       "\n",
       "    .dataframe thead th {\n",
       "        text-align: right;\n",
       "    }\n",
       "</style>\n",
       "<table border=\"1\" class=\"dataframe\">\n",
       "  <thead>\n",
       "    <tr style=\"text-align: right;\">\n",
       "      <th></th>\n",
       "      <th>air</th>\n",
       "      <th>t</th>\n",
       "    </tr>\n",
       "  </thead>\n",
       "  <tbody>\n",
       "    <tr>\n",
       "      <th>1949-01-01</th>\n",
       "      <td>112</td>\n",
       "      <td>1.0</td>\n",
       "    </tr>\n",
       "    <tr>\n",
       "      <th>1949-02-01</th>\n",
       "      <td>118</td>\n",
       "      <td>2.0</td>\n",
       "    </tr>\n",
       "    <tr>\n",
       "      <th>1949-03-01</th>\n",
       "      <td>132</td>\n",
       "      <td>3.0</td>\n",
       "    </tr>\n",
       "    <tr>\n",
       "      <th>1949-04-01</th>\n",
       "      <td>129</td>\n",
       "      <td>4.0</td>\n",
       "    </tr>\n",
       "    <tr>\n",
       "      <th>1949-05-01</th>\n",
       "      <td>121</td>\n",
       "      <td>5.0</td>\n",
       "    </tr>\n",
       "    <tr>\n",
       "      <th>...</th>\n",
       "      <td>...</td>\n",
       "      <td>...</td>\n",
       "    </tr>\n",
       "    <tr>\n",
       "      <th>1960-08-01</th>\n",
       "      <td>606</td>\n",
       "      <td>140.0</td>\n",
       "    </tr>\n",
       "    <tr>\n",
       "      <th>1960-09-01</th>\n",
       "      <td>508</td>\n",
       "      <td>141.0</td>\n",
       "    </tr>\n",
       "    <tr>\n",
       "      <th>1960-10-01</th>\n",
       "      <td>461</td>\n",
       "      <td>142.0</td>\n",
       "    </tr>\n",
       "    <tr>\n",
       "      <th>1960-11-01</th>\n",
       "      <td>390</td>\n",
       "      <td>143.0</td>\n",
       "    </tr>\n",
       "    <tr>\n",
       "      <th>1960-12-01</th>\n",
       "      <td>432</td>\n",
       "      <td>144.0</td>\n",
       "    </tr>\n",
       "  </tbody>\n",
       "</table>\n",
       "<p>144 rows × 2 columns</p>\n",
       "</div>"
      ],
      "text/plain": [
       "            air      t\n",
       "1949-01-01  112    1.0\n",
       "1949-02-01  118    2.0\n",
       "1949-03-01  132    3.0\n",
       "1949-04-01  129    4.0\n",
       "1949-05-01  121    5.0\n",
       "...         ...    ...\n",
       "1960-08-01  606  140.0\n",
       "1960-09-01  508  141.0\n",
       "1960-10-01  461  142.0\n",
       "1960-11-01  390  143.0\n",
       "1960-12-01  432  144.0\n",
       "\n",
       "[144 rows x 2 columns]"
      ]
     },
     "execution_count": 21,
     "metadata": {},
     "output_type": "execute_result"
    }
   ],
   "source": [
    "import pandas as pd\n",
    "from datetime import datetime\n",
    "import requests\n",
    "from io import BytesIO\n",
    "\n",
    "air2 = requests.get('https://www.stata-press.com/data/r12/air2.dta').content\n",
    "data2 = pd.read_stata(BytesIO(air2))\n",
    "data2['time'] = data2['time'].apply(lambda x: datetime(int(x), 1, 1))\n",
    "data2.index = pd.date_range(start=data2['time'][0], periods=len(data2), freq='MS')\n",
    "data2 = data2.drop('time', axis=1)\n",
    "data2"
   ]
  },
  {
   "cell_type": "code",
   "execution_count": 22,
   "metadata": {},
   "outputs": [
    {
     "data": {
      "text/html": [
       "<div>\n",
       "<style scoped>\n",
       "    .dataframe tbody tr th:only-of-type {\n",
       "        vertical-align: middle;\n",
       "    }\n",
       "\n",
       "    .dataframe tbody tr th {\n",
       "        vertical-align: top;\n",
       "    }\n",
       "\n",
       "    .dataframe thead th {\n",
       "        text-align: right;\n",
       "    }\n",
       "</style>\n",
       "<table border=\"1\" class=\"dataframe\">\n",
       "  <thead>\n",
       "    <tr style=\"text-align: right;\">\n",
       "      <th></th>\n",
       "      <th>air</th>\n",
       "    </tr>\n",
       "  </thead>\n",
       "  <tbody>\n",
       "    <tr>\n",
       "      <th>1949-01-01</th>\n",
       "      <td>112</td>\n",
       "    </tr>\n",
       "    <tr>\n",
       "      <th>1949-02-01</th>\n",
       "      <td>118</td>\n",
       "    </tr>\n",
       "    <tr>\n",
       "      <th>1949-03-01</th>\n",
       "      <td>132</td>\n",
       "    </tr>\n",
       "    <tr>\n",
       "      <th>1949-04-01</th>\n",
       "      <td>129</td>\n",
       "    </tr>\n",
       "    <tr>\n",
       "      <th>1949-05-01</th>\n",
       "      <td>121</td>\n",
       "    </tr>\n",
       "    <tr>\n",
       "      <th>...</th>\n",
       "      <td>...</td>\n",
       "    </tr>\n",
       "    <tr>\n",
       "      <th>1960-08-01</th>\n",
       "      <td>606</td>\n",
       "    </tr>\n",
       "    <tr>\n",
       "      <th>1960-09-01</th>\n",
       "      <td>508</td>\n",
       "    </tr>\n",
       "    <tr>\n",
       "      <th>1960-10-01</th>\n",
       "      <td>461</td>\n",
       "    </tr>\n",
       "    <tr>\n",
       "      <th>1960-11-01</th>\n",
       "      <td>390</td>\n",
       "    </tr>\n",
       "    <tr>\n",
       "      <th>1960-12-01</th>\n",
       "      <td>432</td>\n",
       "    </tr>\n",
       "  </tbody>\n",
       "</table>\n",
       "<p>144 rows × 1 columns</p>\n",
       "</div>"
      ],
      "text/plain": [
       "            air\n",
       "1949-01-01  112\n",
       "1949-02-01  118\n",
       "1949-03-01  132\n",
       "1949-04-01  129\n",
       "1949-05-01  121\n",
       "...         ...\n",
       "1960-08-01  606\n",
       "1960-09-01  508\n",
       "1960-10-01  461\n",
       "1960-11-01  390\n",
       "1960-12-01  432\n",
       "\n",
       "[144 rows x 1 columns]"
      ]
     },
     "execution_count": 22,
     "metadata": {},
     "output_type": "execute_result"
    }
   ],
   "source": [
    "data2.drop(columns='t')"
   ]
  },
  {
   "cell_type": "code",
   "execution_count": 23,
   "metadata": {},
   "outputs": [
    {
     "data": {
      "text/plain": [
       "<Axes: >"
      ]
     },
     "execution_count": 23,
     "metadata": {},
     "output_type": "execute_result"
    },
    {
     "data": {
      "image/png": "[encoded data removed]",
      "text/plain": [
       "<Figure size 800x500 with 1 Axes>"
      ]
     },
     "metadata": {},
     "output_type": "display_data"
    }
   ],
   "source": [
    "data2['air'].plot(figsize=(8,5))"
   ]
  },
  {
   "cell_type": "markdown",
   "metadata": {},
   "source": [
    "Podemos observar que la serie tiene estacionalidad pero para asegurarnos hacemos el test de Fuller:"
   ]
  },
  {
   "cell_type": "code",
   "execution_count": 24,
   "metadata": {},
   "outputs": [
    {
     "name": "stdout",
     "output_type": "stream",
     "text": [
      "Results of Dickey-Fuller Test:\n",
      "Test Statistic                   0.815369\n",
      "p-value                          0.991880\n",
      "#Lags Used                      13.000000\n",
      "Number of Observations Used    130.000000\n",
      "Critical Value (1%)             -3.481682\n",
      "Critical Value (5%)             -2.884042\n",
      "Critical Value (10%)            -2.578770\n",
      "dtype: float64\n",
      "\u001b[31mNon-stationary\u001b[0m\n"
     ]
    }
   ],
   "source": [
    "adf_test(data2['air'])"
   ]
  },
  {
   "cell_type": "markdown",
   "metadata": {},
   "source": [
    "Para ajustar un modelo SARIMAX (Seasonal Autoregressive Integrated Moving Average with Exogenous Variables), no es estrictamente necesario que la serie temporal sea estacionaria, pero es altamente recomendable. La estacionariedad facilita la modelización y mejora la interpretación de los resultados."
   ]
  },
  {
   "cell_type": "code",
   "execution_count": 25,
   "metadata": {},
   "outputs": [
    {
     "name": "stdout",
     "output_type": "stream",
     "text": [
      "ADF para derivada primer orden...\n",
      "\n",
      "Results of Dickey-Fuller Test:\n",
      "Test Statistic                  -2.829267\n",
      "p-value                          0.054213\n",
      "#Lags Used                      12.000000\n",
      "Number of Observations Used    130.000000\n",
      "Critical Value (1%)             -3.481682\n",
      "Critical Value (5%)             -2.884042\n",
      "Critical Value (10%)            -2.578770\n",
      "dtype: float64\n",
      "\u001b[31mNon-stationary\u001b[0m\n",
      "ADF para derivada segundo orden...\n",
      "\n",
      "Results of Dickey-Fuller Test:\n",
      "Test Statistic                -1.638423e+01\n",
      "p-value                        2.732892e-29\n",
      "#Lags Used                     1.100000e+01\n",
      "Number of Observations Used    1.300000e+02\n",
      "Critical Value (1%)           -3.481682e+00\n",
      "Critical Value (5%)           -2.884042e+00\n",
      "Critical Value (10%)          -2.578770e+00\n",
      "dtype: float64\n",
      "\u001b[32mStationary\u001b[0m\n"
     ]
    }
   ],
   "source": [
    "diff1_values = data2['air'].diff().dropna()\n",
    "\n",
    "print('ADF para derivada primer orden...\\n')\n",
    "adf_test(diff1_values)\n",
    "\n",
    "diff2_values = data2['air'].diff().diff().dropna()\n",
    "\n",
    "print('ADF para derivada segundo orden...\\n')\n",
    "adf_test(diff2_values)"
   ]
  },
  {
   "cell_type": "code",
   "execution_count": 26,
   "metadata": {},
   "outputs": [
    {
     "data": {
      "image/png": "[encoded data removed]",
      "text/plain": [
       "<Figure size 1000x700 with 2 Axes>"
      ]
     },
     "metadata": {},
     "output_type": "display_data"
    }
   ],
   "source": [
    "def plot_acf_pacf(data, kwargs=dict()):\n",
    "    f = plt.figure(figsize=(10,7))\n",
    "\n",
    "    ax1 = f.add_subplot(121)\n",
    "\n",
    "    plot_acf(data2['air'], zero=False, ax=ax1, **kwargs)\n",
    "\n",
    "    ax2 = f.add_subplot(122)\n",
    "    plot_pacf(data2['air'], zero=False, ax=ax2, method='ols', **kwargs)\n",
    "\n",
    "    plt.show()\n",
    "\n",
    "plot_acf_pacf(diff2_values, {'lags':40})"
   ]
  },
  {
   "cell_type": "markdown",
   "metadata": {},
   "source": [
    "Sabemos qie cada 12 periodos es la estacionalidad, encontre una libreria que te calcula cuales pueden ser los mejores parametros para tu modelo, vamos a usarlo:"
   ]
  },
  {
   "cell_type": "code",
   "execution_count": 27,
   "metadata": {},
   "outputs": [
    {
     "name": "stdout",
     "output_type": "stream",
     "text": [
      "Performing stepwise search to minimize aic\n",
      " ARIMA(2,1,2)(1,1,1)[12]             : AIC=1020.048, Time=1.18 sec\n",
      " ARIMA(0,1,0)(0,1,0)[12]             : AIC=1031.508, Time=0.05 sec\n",
      " ARIMA(1,1,0)(1,1,0)[12]             : AIC=1020.393, Time=0.18 sec\n",
      " ARIMA(0,1,1)(0,1,1)[12]             : AIC=1021.003, Time=0.17 sec\n",
      " ARIMA(2,1,2)(0,1,1)[12]             : AIC=1019.935, Time=0.72 sec\n",
      " ARIMA(2,1,2)(0,1,0)[12]             : AIC=1019.290, Time=0.33 sec\n",
      " ARIMA(2,1,2)(1,1,0)[12]             : AIC=1019.546, Time=0.66 sec\n",
      " ARIMA(1,1,2)(0,1,0)[12]             : AIC=1024.160, Time=0.19 sec\n",
      " ARIMA(2,1,1)(0,1,0)[12]             : AIC=1017.847, Time=0.26 sec\n",
      " ARIMA(2,1,1)(1,1,0)[12]             : AIC=1017.914, Time=0.56 sec\n",
      " ARIMA(2,1,1)(0,1,1)[12]             : AIC=1018.359, Time=0.62 sec\n",
      " ARIMA(2,1,1)(1,1,1)[12]             : AIC=1018.248, Time=1.11 sec\n",
      " ARIMA(1,1,1)(0,1,0)[12]             : AIC=1022.393, Time=0.10 sec\n",
      " ARIMA(2,1,0)(0,1,0)[12]             : AIC=1022.393, Time=0.09 sec\n",
      " ARIMA(3,1,1)(0,1,0)[12]             : AIC=1019.084, Time=0.33 sec\n",
      " ARIMA(1,1,0)(0,1,0)[12]             : AIC=1020.393, Time=0.05 sec\n",
      " ARIMA(3,1,0)(0,1,0)[12]             : AIC=1023.666, Time=0.09 sec\n",
      " ARIMA(3,1,2)(0,1,0)[12]             : AIC=1021.083, Time=0.53 sec\n",
      " ARIMA(2,1,1)(0,1,0)[12] intercept   : AIC=inf, Time=0.67 sec\n",
      "\n",
      "Best model:  ARIMA(2,1,1)(0,1,0)[12]          \n",
      "Total fit time: 7.955 seconds\n",
      "(2, 1, 1)\n",
      "(0, 1, 0, 12)\n"
     ]
    }
   ],
   "source": [
    "import pmdarima as pm\n",
    "\n",
    "# Ajustar un modelo SARIMAX automáticamente\n",
    "modelo_auto = pm.auto_arima(data2['air'], seasonal=True, m=12, trace=True)\n",
    "\n",
    "# Obtener los parámetros encontrados\n",
    "print(modelo_auto.order)\n",
    "print(modelo_auto.seasonal_order)"
   ]
  },
  {
   "cell_type": "markdown",
   "metadata": {},
   "source": [
    "La funcion nos dio que $p = 2$, $d = 1$, $q =1$, $P = 0$, $D = 1$, $Q = 0$ y $s = 12$. Vamos ahora a crear nuestro modelo: "
   ]
  },
  {
   "cell_type": "code",
   "execution_count": 28,
   "metadata": {},
   "outputs": [
    {
     "name": "stdout",
     "output_type": "stream",
     "text": [
      "                                      SARIMAX Results                                      \n",
      "===========================================================================================\n",
      "Dep. Variable:                                 air   No. Observations:                  144\n",
      "Model:             SARIMAX(2, 1, 1)x(0, 1, [], 12)   Log Likelihood                -504.923\n",
      "Date:                             Tue, 06 Feb 2024   AIC                           1017.847\n",
      "Time:                                     16:59:52   BIC                           1029.348\n",
      "Sample:                                 01-01-1949   HQIC                          1022.520\n",
      "                                      - 12-01-1960                                         \n",
      "Covariance Type:                               opg                                         \n",
      "==============================================================================\n",
      "                 coef    std err          z      P>|z|      [0.025      0.975]\n",
      "------------------------------------------------------------------------------\n",
      "ar.L1          0.5960      0.085      6.986      0.000       0.429       0.763\n",
      "ar.L2          0.2143      0.091      2.343      0.019       0.035       0.394\n",
      "ma.L1         -0.9819      0.038    -25.595      0.000      -1.057      -0.907\n",
      "sigma2       129.3123     14.556      8.884      0.000     100.783     157.842\n",
      "===================================================================================\n",
      "Ljung-Box (L1) (Q):                   0.00   Jarque-Bera (JB):                 7.68\n",
      "Prob(Q):                              0.98   Prob(JB):                         0.02\n",
      "Heteroskedasticity (H):               2.33   Skew:                            -0.01\n",
      "Prob(H) (two-sided):                  0.01   Kurtosis:                         4.19\n",
      "===================================================================================\n",
      "\n",
      "Warnings:\n",
      "[1] Covariance matrix calculated using the outer product of gradients (complex-step).\n"
     ]
    }
   ],
   "source": [
    "modelo1_max = sm.tsa.SARIMAX(data2['air'], order=(2, 1, 1), seasonal_order=(0, 1, 0, 12))\n",
    "resultado = modelo1_max.fit()\n",
    "\n",
    "print(resultado.summary())"
   ]
  },
  {
   "cell_type": "markdown",
   "metadata": {},
   "source": [
    "4. Realizar una predicción de 20 unidades de tiempo en el futuro, tanto para el modelo ARIMA como SARIMA y reportar los resulados en una gráfica donde se puedan observar los datos reales y los datos predichos.\n",
    "\n",
    "#### ARIMA"
   ]
  },
  {
   "cell_type": "code",
   "execution_count": 32,
   "metadata": {},
   "outputs": [
    {
     "data": {
      "text/plain": [
       "<Axes: >"
      ]
     },
     "execution_count": 32,
     "metadata": {},
     "output_type": "execute_result"
    },
    {
     "data": {
      "image/png": "[encoded data removed]",
      "text/plain": [
       "<Figure size 1200x800 with 1 Axes>"
      ]
     },
     "metadata": {},
     "output_type": "display_data"
    }
   ],
   "source": [
    "#Predicción con el mejor modelo ARIMA\n",
    "data_n['forecast'] = model5_n.predict(start=80,end=100,dynamic=True)\n",
    "data_n[['values','forecast']].plot(figsize=(12,8))"
   ]
  },
  {
   "cell_type": "markdown",
   "metadata": {},
   "source": [
    "No esta para nada bien ajustado a los datos reales. :(("
   ]
  },
  {
   "cell_type": "markdown",
   "metadata": {},
   "source": [
    "#### SARIMAX"
   ]
  },
  {
   "cell_type": "code",
   "execution_count": 33,
   "metadata": {},
   "outputs": [
    {
     "data": {
      "text/plain": [
       "<Axes: >"
      ]
     },
     "execution_count": 33,
     "metadata": {},
     "output_type": "execute_result"
    },
    {
     "data": {
      "image/png": "[encoded data removed]",
      "text/plain": [
       "<Figure size 1200x800 with 1 Axes>"
      ]
     },
     "metadata": {},
     "output_type": "display_data"
    }
   ],
   "source": [
    "data2['forecast']=resultado.predict(start=124,end=144,dynamic=True)\n",
    "data2[['air','forecast']].plot(figsize=(12,8))"
   ]
  },
  {
   "cell_type": "markdown",
   "metadata": {},
   "source": [
    "Se ajusta demasiado a nuestros datos reales, sin ser overfitting."
   ]
  }
 ],
 "metadata": {
  "colab": {
   "provenance": []
  },
  "kernelspec": {
   "display_name": "Python 3 (ipykernel)",
   "language": "python",
   "name": "python3"
  },
  "language_info": {
   "codemirror_mode": {
    "name": "ipython",
    "version": 3
   },
   "file_extension": ".py",
   "mimetype": "text/x-python",
   "name": "python",
   "nbconvert_exporter": "python",
   "pygments_lexer": "ipython3",
   "version": "3.11.5"
  }
 },
 "nbformat": 4,
 "nbformat_minor": 1
}
